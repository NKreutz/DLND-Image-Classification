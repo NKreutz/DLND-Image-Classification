{
 "cells": [
  {
   "cell_type": "markdown",
   "metadata": {
    "collapsed": true,
    "deletable": true,
    "editable": true
   },
   "source": [
    "# Image Classification\n",
    "In this project, you'll classify images from the [CIFAR-10 dataset](https://www.cs.toronto.edu/~kriz/cifar.html).  The dataset consists of airplanes, dogs, cats, and other objects. You'll preprocess the images, then train a convolutional neural network on all the samples. The images need to be normalized and the labels need to be one-hot encoded.  You'll get to apply what you learned and build a convolutional, max pooling, dropout, and fully connected layers.  At the end, you'll get to see your neural network's predictions on the sample images.\n",
    "## Get the Data\n",
    "Run the following cell to download the [CIFAR-10 dataset for python](https://www.cs.toronto.edu/~kriz/cifar-10-python.tar.gz)."
   ]
  },
  {
   "cell_type": "code",
   "execution_count": 1,
   "metadata": {
    "collapsed": false,
    "deletable": true,
    "editable": true
   },
   "outputs": [
    {
     "name": "stdout",
     "output_type": "stream",
     "text": [
      "All files found!\n"
     ]
    }
   ],
   "source": [
    "\"\"\"\n",
    "DON'T MODIFY ANYTHING IN THIS CELL THAT IS BELOW THIS LINE\n",
    "\"\"\"\n",
    "from urllib.request import urlretrieve\n",
    "from os.path import isfile, isdir\n",
    "from tqdm import tqdm\n",
    "import problem_unittests as tests\n",
    "import tarfile\n",
    "\n",
    "cifar10_dataset_folder_path = 'cifar-10-batches-py'\n",
    "\n",
    "# Use Floyd's cifar-10 dataset if present\n",
    "floyd_cifar10_location = '/input/cifar-10/python.tar.gz'\n",
    "if isfile(floyd_cifar10_location):\n",
    "    tar_gz_path = floyd_cifar10_location\n",
    "else:\n",
    "    tar_gz_path = 'cifar-10-python.tar.gz'\n",
    "\n",
    "class DLProgress(tqdm):\n",
    "    last_block = 0\n",
    "\n",
    "    def hook(self, block_num=1, block_size=1, total_size=None):\n",
    "        self.total = total_size\n",
    "        self.update((block_num - self.last_block) * block_size)\n",
    "        self.last_block = block_num\n",
    "\n",
    "if not isfile(tar_gz_path):\n",
    "    with DLProgress(unit='B', unit_scale=True, miniters=1, desc='CIFAR-10 Dataset') as pbar:\n",
    "        urlretrieve(\n",
    "            'https://www.cs.toronto.edu/~kriz/cifar-10-python.tar.gz',\n",
    "            tar_gz_path,\n",
    "            pbar.hook)\n",
    "\n",
    "if not isdir(cifar10_dataset_folder_path):\n",
    "    with tarfile.open(tar_gz_path) as tar:\n",
    "        tar.extractall()\n",
    "        tar.close()\n",
    "\n",
    "\n",
    "tests.test_folder_path(cifar10_dataset_folder_path)"
   ]
  },
  {
   "cell_type": "markdown",
   "metadata": {
    "deletable": true,
    "editable": true
   },
   "source": [
    "## Explore the Data\n",
    "The dataset is broken into batches to prevent your machine from running out of memory.  The CIFAR-10 dataset consists of 5 batches, named `data_batch_1`, `data_batch_2`, etc.. Each batch contains the labels and images that are one of the following:\n",
    "* airplane\n",
    "* automobile\n",
    "* bird\n",
    "* cat\n",
    "* deer\n",
    "* dog\n",
    "* frog\n",
    "* horse\n",
    "* ship\n",
    "* truck\n",
    "\n",
    "Understanding a dataset is part of making predictions on the data.  Play around with the code cell below by changing the `batch_id` and `sample_id`. The `batch_id` is the id for a batch (1-5). The `sample_id` is the id for a image and label pair in the batch.\n",
    "\n",
    "Ask yourself \"What are all possible labels?\", \"What is the range of values for the image data?\", \"Are the labels in order or random?\".  Answers to questions like these will help you preprocess the data and end up with better predictions."
   ]
  },
  {
   "cell_type": "code",
   "execution_count": 2,
   "metadata": {
    "collapsed": false,
    "deletable": true,
    "editable": true
   },
   "outputs": [
    {
     "name": "stdout",
     "output_type": "stream",
     "text": [
      "\n",
      "Stats of batch 1:\n",
      "Samples: 10000\n",
      "Label Counts: {0: 1005, 1: 974, 2: 1032, 3: 1016, 4: 999, 5: 937, 6: 1030, 7: 1001, 8: 1025, 9: 981}\n",
      "First 20 Labels: [6, 9, 9, 4, 1, 1, 2, 7, 8, 3, 4, 7, 7, 2, 9, 9, 9, 3, 2, 6]\n",
      "\n",
      "Example of Image 5:\n",
      "Image - Min Value: 0 Max Value: 252\n",
      "Image - Shape: (32, 32, 3)\n",
      "Label - Label Id: 1 Name: automobile\n"
     ]
    },
    {
     "data": {
      "image/png": "[encoded data removed]",
      "text/plain": [
       "<matplotlib.figure.Figure at 0x7f8de6a68940>"
      ]
     },
     "metadata": {
      "image/png": {
       "height": 250,
       "width": 253
      }
     },
     "output_type": "display_data"
    }
   ],
   "source": [
    "%matplotlib inline\n",
    "%config InlineBackend.figure_format = 'retina'\n",
    "\n",
    "import helper\n",
    "import numpy as np\n",
    "\n",
    "# Explore the dataset\n",
    "batch_id = 1\n",
    "sample_id = 5\n",
    "helper.display_stats(cifar10_dataset_folder_path, batch_id, sample_id)"
   ]
  },
  {
   "cell_type": "markdown",
   "metadata": {
    "deletable": true,
    "editable": true
   },
   "source": [
    "## Implement Preprocess Functions\n",
    "### Normalize\n",
    "In the cell below, implement the `normalize` function to take in image data, `x`, and return it as a normalized Numpy array. The values should be in the range of 0 to 1, inclusive.  The return object should be the same shape as `x`."
   ]
  },
  {
   "cell_type": "code",
   "execution_count": 3,
   "metadata": {
    "collapsed": false,
    "deletable": true,
    "editable": true
   },
   "outputs": [
    {
     "name": "stdout",
     "output_type": "stream",
     "text": [
      "Tests Passed\n"
     ]
    }
   ],
   "source": [
    "def normalize(x):\n",
    "    \"\"\"\n",
    "    Normalize a list of sample image data in the range of 0 to 1\n",
    "    : x: List of image data.  The image shape is (32, 32, 3)\n",
    "    : return: Numpy array of normalize data\n",
    "    \"\"\"\n",
    "    return np.array(x/255.0)\n",
    "\n",
    "\"\"\"\n",
    "DON'T MODIFY ANYTHING IN THIS CELL THAT IS BELOW THIS LINE\n",
    "\"\"\"\n",
    "tests.test_normalize(normalize)"
   ]
  },
  {
   "cell_type": "markdown",
   "metadata": {
    "deletable": true,
    "editable": true
   },
   "source": [
    "### One-hot encode\n",
    "Just like the previous code cell, you'll be implementing a function for preprocessing.  This time, you'll implement the `one_hot_encode` function. The input, `x`, are a list of labels.  Implement the function to return the list of labels as One-Hot encoded Numpy array.  The possible values for labels are 0 to 9. The one-hot encoding function should return the same encoding for each value between each call to `one_hot_encode`.  Make sure to save the map of encodings outside the function.\n",
    "\n",
    "Hint: Don't reinvent the wheel."
   ]
  },
  {
   "cell_type": "code",
   "execution_count": 4,
   "metadata": {
    "collapsed": false,
    "deletable": true,
    "editable": true
   },
   "outputs": [
    {
     "name": "stdout",
     "output_type": "stream",
     "text": [
      "Tests Passed\n"
     ]
    }
   ],
   "source": [
    "def one_hot_encode(x):\n",
    "    \"\"\"\n",
    "    One hot encode a list of sample labels. Return a one-hot encoded vector for each label.\n",
    "    : x: List of sample Labels\n",
    "    : return: Numpy array of one-hot encoded labels\n",
    "    \"\"\"\n",
    "    # TODO: Implement Function\n",
    "    return np.eye(10)[x]\n",
    "\n",
    "\n",
    "\n",
    "\n",
    "\"\"\"\n",
    "DON'T MODIFY ANYTHING IN THIS CELL THAT IS BELOW THIS LINE\n",
    "\"\"\"\n",
    "tests.test_one_hot_encode(one_hot_encode)"
   ]
  },
  {
   "cell_type": "markdown",
   "metadata": {
    "deletable": true,
    "editable": true
   },
   "source": [
    "### Randomize Data\n",
    "As you saw from exploring the data above, the order of the samples are randomized.  It doesn't hurt to randomize it again, but you don't need to for this dataset."
   ]
  },
  {
   "cell_type": "markdown",
   "metadata": {
    "deletable": true,
    "editable": true
   },
   "source": [
    "## Preprocess all the data and save it\n",
    "Running the code cell below will preprocess all the CIFAR-10 data and save it to file. The code below also uses 10% of the training data for validation."
   ]
  },
  {
   "cell_type": "code",
   "execution_count": 5,
   "metadata": {
    "collapsed": false,
    "deletable": true,
    "editable": true
   },
   "outputs": [],
   "source": [
    "\"\"\"\n",
    "DON'T MODIFY ANYTHING IN THIS CELL\n",
    "\"\"\"\n",
    "# Preprocess Training, Validation, and Testing Data\n",
    "helper.preprocess_and_save_data(cifar10_dataset_folder_path, normalize, one_hot_encode)"
   ]
  },
  {
   "cell_type": "markdown",
   "metadata": {
    "deletable": true,
    "editable": true
   },
   "source": [
    "# Check Point\n",
    "This is your first checkpoint.  If you ever decide to come back to this notebook or have to restart the notebook, you can start from here.  The preprocessed data has been saved to disk."
   ]
  },
  {
   "cell_type": "code",
   "execution_count": 6,
   "metadata": {
    "collapsed": true,
    "deletable": true,
    "editable": true
   },
   "outputs": [],
   "source": [
    "\"\"\"\n",
    "DON'T MODIFY ANYTHING IN THIS CELL\n",
    "\"\"\"\n",
    "import pickle\n",
    "import problem_unittests as tests\n",
    "import helper\n",
    "\n",
    "# Load the Preprocessed Validation data\n",
    "valid_features, valid_labels = pickle.load(open('preprocess_validation.p', mode='rb'))"
   ]
  },
  {
   "cell_type": "markdown",
   "metadata": {
    "deletable": true,
    "editable": true
   },
   "source": [
    "## Build the network\n",
    "For the neural network, you'll build each layer into a function.  Most of the code you've seen has been outside of functions. To test your code more thoroughly, we require that you put each layer in a function.  This allows us to give you better feedback and test for simple mistakes using our unittests before you submit your project.\n",
    "\n",
    ">**Note:** If you're finding it hard to dedicate enough time for this course each week, we've provided a small shortcut to this part of the project. In the next couple of problems, you'll have the option to use classes from the [TensorFlow Layers](https://www.tensorflow.org/api_docs/python/tf/layers) or [TensorFlow Layers (contrib)](https://www.tensorflow.org/api_guides/python/contrib.layers) packages to build each layer, except the layers you build in the \"Convolutional and Max Pooling Layer\" section.  TF Layers is similar to Keras's and TFLearn's abstraction to layers, so it's easy to pickup.\n",
    "\n",
    ">However, if you would like to get the most out of this course, try to solve all the problems _without_ using anything from the TF Layers packages. You **can** still use classes from other packages that happen to have the same name as ones you find in TF Layers! For example, instead of using the TF Layers version of the `conv2d` class, [tf.layers.conv2d](https://www.tensorflow.org/api_docs/python/tf/layers/conv2d), you would want to use the TF Neural Network version of `conv2d`, [tf.nn.conv2d](https://www.tensorflow.org/api_docs/python/tf/nn/conv2d). \n",
    "\n",
    "Let's begin!\n",
    "\n",
    "### Input\n",
    "The neural network needs to read the image data, one-hot encoded labels, and dropout keep probability. Implement the following functions\n",
    "* Implement `neural_net_image_input`\n",
    " * Return a [TF Placeholder](https://www.tensorflow.org/api_docs/python/tf/placeholder)\n",
    " * Set the shape using `image_shape` with batch size set to `None`.\n",
    " * Name the TensorFlow placeholder \"x\" using the TensorFlow `name` parameter in the [TF Placeholder](https://www.tensorflow.org/api_docs/python/tf/placeholder).\n",
    "* Implement `neural_net_label_input`\n",
    " * Return a [TF Placeholder](https://www.tensorflow.org/api_docs/python/tf/placeholder)\n",
    " * Set the shape using `n_classes` with batch size set to `None`.\n",
    " * Name the TensorFlow placeholder \"y\" using the TensorFlow `name` parameter in the [TF Placeholder](https://www.tensorflow.org/api_docs/python/tf/placeholder).\n",
    "* Implement `neural_net_keep_prob_input`\n",
    " * Return a [TF Placeholder](https://www.tensorflow.org/api_docs/python/tf/placeholder) for dropout keep probability.\n",
    " * Name the TensorFlow placeholder \"keep_prob\" using the TensorFlow `name` parameter in the [TF Placeholder](https://www.tensorflow.org/api_docs/python/tf/placeholder).\n",
    "\n",
    "These names will be used at the end of the project to load your saved model.\n",
    "\n",
    "Note: `None` for shapes in TensorFlow allow for a dynamic size."
   ]
  },
  {
   "cell_type": "code",
   "execution_count": 7,
   "metadata": {
    "collapsed": false,
    "deletable": true,
    "editable": true
   },
   "outputs": [
    {
     "name": "stdout",
     "output_type": "stream",
     "text": [
      "Image Input Tests Passed.\n",
      "Label Input Tests Passed.\n",
      "Keep Prob Tests Passed.\n"
     ]
    }
   ],
   "source": [
    "import tensorflow as tf\n",
    "\n",
    "def neural_net_image_input(image_shape):\n",
    "    \"\"\"\n",
    "    Return a Tensor for a bach of image input\n",
    "    : image_shape: Shape of the images\n",
    "    : return: Tensor for image input.\n",
    "    \"\"\"\n",
    "    # TODO: Implement Function\n",
    "    return tf.placeholder(tf.float32, shape = (None, image_shape[0],image_shape[1],image_shape[2]),name = 'x')\n",
    "   \n",
    "\n",
    "def neural_net_label_input(n_classes):\n",
    "    \"\"\"\n",
    "    Return a Tensor for a batch of label input\n",
    "    : n_classes: Number of classes\n",
    "    : return: Tensor for label input.\n",
    "    \"\"\"\n",
    "    # TODO: Implement Function\n",
    "    return tf.placeholder(tf.float32, shape = (None, n_classes), name = 'y')\n",
    "    \n",
    "\n",
    "def neural_net_keep_prob_input():\n",
    "    \"\"\"\n",
    "    Return a Tensor for keep probability\n",
    "    : return: Tensor for keep probability.\n",
    "    \"\"\"\n",
    "    # TODO: Implement Function\n",
    "    return tf.placeholder(tf.float32, name = 'keep_prob') \n",
    "    \n",
    "\n",
    "\"\"\"\n",
    "DON'T MODIFY ANYTHING IN THIS CELL THAT IS BELOW THIS LINE\n",
    "\"\"\"\n",
    "tf.reset_default_graph()\n",
    "tests.test_nn_image_inputs(neural_net_image_input)\n",
    "tests.test_nn_label_inputs(neural_net_label_input)\n",
    "tests.test_nn_keep_prob_inputs(neural_net_keep_prob_input)"
   ]
  },
  {
   "cell_type": "markdown",
   "metadata": {
    "deletable": true,
    "editable": true
   },
   "source": [
    "### Convolution and Max Pooling Layer\n",
    "Convolution layers have a lot of success with images. For this code cell, you should implement the function `conv2d_maxpool` to apply convolution then max pooling:\n",
    "* Create the weight and bias using `conv_ksize`, `conv_num_outputs` and the shape of `x_tensor`.\n",
    "* Apply a convolution to `x_tensor` using weight and `conv_strides`.\n",
    " * We recommend you use same padding, but you're welcome to use any padding.\n",
    "* Add bias\n",
    "* Add a nonlinear activation to the convolution.\n",
    "* Apply Max Pooling using `pool_ksize` and `pool_strides`.\n",
    " * We recommend you use same padding, but you're welcome to use any padding.\n",
    "\n",
    "**Note:** You **can't** use [TensorFlow Layers](https://www.tensorflow.org/api_docs/python/tf/layers) or [TensorFlow Layers (contrib)](https://www.tensorflow.org/api_guides/python/contrib.layers) for **this** layer, but you can still use TensorFlow's [Neural Network](https://www.tensorflow.org/api_docs/python/tf/nn) package. You may still use the shortcut option for all the **other** layers."
   ]
  },
  {
   "cell_type": "code",
   "execution_count": 8,
   "metadata": {
    "collapsed": false,
    "deletable": true,
    "editable": true
   },
   "outputs": [
    {
     "name": "stdout",
     "output_type": "stream",
     "text": [
      "Tests Passed\n"
     ]
    }
   ],
   "source": [
    "def conv2d_maxpool(x_tensor, conv_num_outputs, conv_ksize, conv_strides, pool_ksize, pool_strides):\n",
    "    \"\"\"\n",
    "    Apply convolution then max pooling to x_tensor\n",
    "    :param x_tensor: TensorFlow placeholder Tensor #shape = batch size(None(any)), 32x32 (height and width), depth of 5\n",
    "    :param conv_num_outputs: Number of outputs for the convolutional layer = 10 # depth of the filter\n",
    "    :param conv_ksize: kernal size 2-D Tuple for the convolutional layer = (2,2) # patch height and width in a tuple\n",
    "    :param conv_strides: Stride 2-D Tuple for convolution = (4,4)\n",
    "    :param pool_ksize: kernal size 2-D Tuple for pool = (2,2) # patch size for max pooling layer\n",
    "    :param pool_strides: Stride 2-D Tuple for pool = (2,2)\n",
    "    : return: A tensor that represents convolution and max pooling of x_tensor\n",
    "    \"\"\"\n",
    "    # TODO: Implement Function\n",
    "    # Create the weight and bias using conv_ksize, conv_num_outputs and the shape of x_tensor.\n",
    "    filter_weights = tf.Variable(tf.truncated_normal([conv_ksize[0], conv_ksize[1], x_tensor.get_shape().as_list()[3], conv_num_outputs], stddev=0.1))\n",
    "    filter_bias = tf.Variable(tf.zeros(conv_num_outputs))\n",
    "    \n",
    "    # Apply a convolution to x_tensor using weight and conv_strides.\n",
    "    strides = [1, conv_strides[0], conv_strides[1], 1] # (batch, height, width, depth)\n",
    "    conv_layer = tf.nn.conv2d(x_tensor, filter_weights, strides, padding='SAME')\n",
    "    \n",
    "    #Add bias\n",
    "    conv_layer = tf.nn.bias_add(conv_layer, filter_bias)\n",
    "    \n",
    "    #Add a nonlinear activation to the convolution\n",
    "    conv_layer = tf.nn.relu(conv_layer)\n",
    "\n",
    "    # Apply Max Pooling using pool_ksize and pool_strides\n",
    "    strides = [1, pool_strides[0], pool_strides[1], 1]\n",
    "    pool_ksize = [1, pool_ksize[0], pool_ksize[1], 1]\n",
    "    conv_layer = tf.nn.max_pool(conv_layer, pool_ksize, strides, padding='SAME')\n",
    "    \n",
    "    return conv_layer\n",
    "\n",
    "\"\"\"\n",
    "DON'T MODIFY ANYTHING IN THIS CELL THAT IS BELOW THIS LINE\n",
    "\"\"\"\n",
    "tests.test_con_pool(conv2d_maxpool)"
   ]
  },
  {
   "cell_type": "markdown",
   "metadata": {
    "deletable": true,
    "editable": true
   },
   "source": [
    "### Flatten Layer\n",
    "Implement the `flatten` function to change the dimension of `x_tensor` from a 4-D tensor to a 2-D tensor.  The output should be the shape (*Batch Size*, *Flattened Image Size*). Shortcut option: you can use classes from the [TensorFlow Layers](https://www.tensorflow.org/api_docs/python/tf/layers) or [TensorFlow Layers (contrib)](https://www.tensorflow.org/api_guides/python/contrib.layers) packages for this layer. For more of a challenge, only use other TensorFlow packages."
   ]
  },
  {
   "cell_type": "code",
   "execution_count": 9,
   "metadata": {
    "collapsed": false,
    "deletable": true,
    "editable": true
   },
   "outputs": [
    {
     "name": "stdout",
     "output_type": "stream",
     "text": [
      "Tests Passed\n"
     ]
    }
   ],
   "source": [
    "def flatten(x_tensor):\n",
    "    \"\"\"\n",
    "    Flatten x_tensor to (Batch Size, Flattened Image Size)\n",
    "    : x_tensor: A tensor of size (Batch Size, ...), where ... are the image dimensions.\n",
    "    : return: A tensor of size (Batch Size, Flattened Image Size).\n",
    "    \"\"\"\n",
    "    # TODO: Implement Function\n",
    "    height = x_tensor.get_shape().as_list()[1]\n",
    "    width = x_tensor.get_shape().as_list()[2]\n",
    "    depth = x_tensor.get_shape().as_list()[3]\n",
    "    flat_image_size = height * width * depth\n",
    "    return tf.reshape(x_tensor,(-1, flat_image_size))\n",
    "\n",
    "\"\"\"\n",
    "DON'T MODIFY ANYTHING IN THIS CELL THAT IS BELOW THIS LINE\n",
    "\"\"\"\n",
    "tests.test_flatten(flatten)"
   ]
  },
  {
   "cell_type": "markdown",
   "metadata": {
    "deletable": true,
    "editable": true
   },
   "source": [
    "### Fully-Connected Layer\n",
    "Implement the `fully_conn` function to apply a fully connected layer to `x_tensor` with the shape (*Batch Size*, *num_outputs*). Shortcut option: you can use classes from the [TensorFlow Layers](https://www.tensorflow.org/api_docs/python/tf/layers) or [TensorFlow Layers (contrib)](https://www.tensorflow.org/api_guides/python/contrib.layers) packages for this layer. For more of a challenge, only use other TensorFlow packages."
   ]
  },
  {
   "cell_type": "code",
   "execution_count": 10,
   "metadata": {
    "collapsed": false,
    "deletable": true,
    "editable": true
   },
   "outputs": [
    {
     "name": "stdout",
     "output_type": "stream",
     "text": [
      "Tests Passed\n"
     ]
    }
   ],
   "source": [
    "def fully_conn(x_tensor, num_outputs):\n",
    "    \"\"\"\n",
    "    Apply a fully connected layer to x_tensor using weight and bias\n",
    "    : x_tensor: A 2-D tensor where the first dimension is batch size. =(?, 128)\n",
    "    : num_outputs: The number of output that the new tensor should be. = 40\n",
    "    : return: A 2-D tensor where the second dimension is num_outputs.\n",
    "    \"\"\"\n",
    "    # TODO: Implement Function\n",
    "\n",
    "    weights = tf.Variable(tf.truncated_normal((x_tensor.get_shape().as_list()[1], num_outputs), stddev = 0.1))\n",
    "    bias = tf.Variable(tf.zeros(num_outputs))\n",
    "    \n",
    "    fully_conn_layer = tf.add(tf.matmul(x_tensor, weights), bias)\n",
    "    return tf.nn.relu(fully_conn_layer)\n",
    "\n",
    "\n",
    "\"\"\"\n",
    "DON'T MODIFY ANYTHING IN THIS CELL THAT IS BELOW THIS LINE\n",
    "\"\"\"\n",
    "tests.test_fully_conn(fully_conn)"
   ]
  },
  {
   "cell_type": "markdown",
   "metadata": {
    "deletable": true,
    "editable": true
   },
   "source": [
    "### Output Layer\n",
    "Implement the `output` function to apply a fully connected layer to `x_tensor` with the shape (*Batch Size*, *num_outputs*). Shortcut option: you can use classes from the [TensorFlow Layers](https://www.tensorflow.org/api_docs/python/tf/layers) or [TensorFlow Layers (contrib)](https://www.tensorflow.org/api_guides/python/contrib.layers) packages for this layer. For more of a challenge, only use other TensorFlow packages.\n",
    "\n",
    "**Note:** Activation, softmax, or cross entropy should **not** be applied to this."
   ]
  },
  {
   "cell_type": "code",
   "execution_count": 11,
   "metadata": {
    "collapsed": false,
    "deletable": true,
    "editable": true
   },
   "outputs": [
    {
     "name": "stdout",
     "output_type": "stream",
     "text": [
      "Tests Passed\n"
     ]
    }
   ],
   "source": [
    "def output(x_tensor, num_outputs):\n",
    "    \"\"\"\n",
    "    Apply a output layer to x_tensor using weight and bias\n",
    "    : x_tensor: A 2-D tensor where the first dimension is batch size.\n",
    "    : num_outputs: The number of output that the new tensor should be.\n",
    "    : return: A 2-D tensor where the second dimension is num_outputs.\n",
    "    \"\"\"\n",
    "    # TODO: Implement Function\n",
    "    weights = tf.Variable(tf.truncated_normal((x_tensor.get_shape().as_list()[1], num_outputs), stddev = 0.1))\n",
    "    bias = tf.Variable(tf.zeros(num_outputs))\n",
    "    \n",
    "   \n",
    "    return tf.add(tf.matmul(x_tensor, weights), bias)\n",
    "\n",
    "\"\"\"\n",
    "DON'T MODIFY ANYTHING IN THIS CELL THAT IS BELOW THIS LINE\n",
    "\"\"\"\n",
    "tests.test_output(output)"
   ]
  },
  {
   "cell_type": "markdown",
   "metadata": {
    "deletable": true,
    "editable": true
   },
   "source": [
    "### Create Convolutional Model\n",
    "Implement the function `conv_net` to create a convolutional neural network model. The function takes in a batch of images, `x`, and outputs logits.  Use the layers you created above to create this model:\n",
    "\n",
    "* Apply 1, 2, or 3 Convolution and Max Pool layers\n",
    "* Apply a Flatten Layer\n",
    "* Apply 1, 2, or 3 Fully Connected Layers\n",
    "* Apply an Output Layer\n",
    "* Return the output\n",
    "* Apply [TensorFlow's Dropout](https://www.tensorflow.org/api_docs/python/tf/nn/dropout) to one or more layers in the model using `keep_prob`. "
   ]
  },
  {
   "cell_type": "code",
   "execution_count": 40,
   "metadata": {
    "collapsed": false,
    "deletable": true,
    "editable": true
   },
   "outputs": [
    {
     "name": "stdout",
     "output_type": "stream",
     "text": [
      "Neural Network Built!\n"
     ]
    }
   ],
   "source": [
    "def conv_net(x, keep_prob):\n",
    "    \"\"\"\n",
    "    Create a convolutional neural network model\n",
    "    : x: Placeholder tensor that holds image data.\n",
    "    : keep_prob: Placeholder tensor that hold dropout keep probability.\n",
    "    : return: Tensor that represents logits\n",
    "    \"\"\"\n",
    "    # TODO: Apply 1, 2, or 3 Convolution and Max Pool layers\n",
    "    #    Play around with different number of outputs, kernel size and stride\n",
    "    # Function Definition from Above:\n",
    "    #    conv2d_maxpool(x_tensor, conv_num_outputs, conv_ksize, conv_strides, pool_ksize, pool_strides)\n",
    "    conv_layer_1 = conv2d_maxpool(x, 8, (5,5),(2,2),(2,2),(2,2))\n",
    "    conv_layer_2 = conv2d_maxpool(conv_layer_1, 15, (3,3), (1,1),(2,2), (2,2))\n",
    "    \n",
    "    # TODO: Apply a Flatten Layer\n",
    "    # Function Definition from Above:\n",
    "    #   flatten(x_tensor)\n",
    "    flat = flatten(conv_layer_2)\n",
    "\n",
    "    # TODO: Apply 1, 2, or 3 Fully Connected Layers\n",
    "    #    Play around with different number of outputs\n",
    "    # Function Definition from Above:\n",
    "    #   fully_conn(x_tensor, num_outputs)\n",
    "    fc_layer_1 = fully_conn(flat, 40)\n",
    "    fc_layer_1 = tf.nn.dropout(fc_layer_1, keep_prob)\n",
    "    fc_layer_2 = fully_conn(fc_layer_1, 20)\n",
    "    fc_layer_2 = tf.nn.dropout(fc_layer_1, keep_prob)\n",
    "    fc_layer_3 = fully_conn(fc_layer_1, 15)\n",
    "    # TODO: Apply an Output Layer\n",
    "    #    Set this to the number of classes\n",
    "    # Function Definition from Above:\n",
    "    #   output(x_tensor, num_outputs)\n",
    "    logits = output(fc_layer_2, 10)\n",
    "    \n",
    "    # TODO: return output\n",
    "    return logits\n",
    "\n",
    "\n",
    "\"\"\"\n",
    "DON'T MODIFY ANYTHING IN THIS CELL THAT IS BELOW THIS LINE\n",
    "\"\"\"\n",
    "\n",
    "##############################\n",
    "## Build the Neural Network ##\n",
    "##############################\n",
    "\n",
    "# Remove previous weights, bias, inputs, etc..\n",
    "tf.reset_default_graph()\n",
    "\n",
    "# Inputs\n",
    "x = neural_net_image_input((32, 32, 3))\n",
    "y = neural_net_label_input(10)\n",
    "keep_prob = neural_net_keep_prob_input()\n",
    "\n",
    "# Model\n",
    "logits = conv_net(x, keep_prob)\n",
    "\n",
    "# Name logits Tensor, so that is can be loaded from disk after training\n",
    "logits = tf.identity(logits, name='logits')\n",
    "\n",
    "# Loss and Optimizer\n",
    "cost = tf.reduce_mean(tf.nn.softmax_cross_entropy_with_logits(logits=logits, labels=y))\n",
    "optimizer = tf.train.AdamOptimizer().minimize(cost)\n",
    "\n",
    "# Accuracy\n",
    "correct_pred = tf.equal(tf.argmax(logits, 1), tf.argmax(y, 1))\n",
    "accuracy = tf.reduce_mean(tf.cast(correct_pred, tf.float32), name='accuracy')\n",
    "\n",
    "tests.test_conv_net(conv_net)"
   ]
  },
  {
   "cell_type": "markdown",
   "metadata": {
    "deletable": true,
    "editable": true
   },
   "source": [
    "## Train the Neural Network\n",
    "### Single Optimization\n",
    "Implement the function `train_neural_network` to do a single optimization.  The optimization should use `optimizer` to optimize in `session` with a `feed_dict` of the following:\n",
    "* `x` for image input\n",
    "* `y` for labels\n",
    "* `keep_prob` for keep probability for dropout\n",
    "\n",
    "This function will be called for each batch, so `tf.global_variables_initializer()` has already been called.\n",
    "\n",
    "Note: Nothing needs to be returned. This function is only optimizing the neural network."
   ]
  },
  {
   "cell_type": "code",
   "execution_count": 41,
   "metadata": {
    "collapsed": false,
    "deletable": true,
    "editable": true
   },
   "outputs": [
    {
     "name": "stdout",
     "output_type": "stream",
     "text": [
      "Tests Passed\n"
     ]
    }
   ],
   "source": [
    "def train_neural_network(session, optimizer, keep_probability, feature_batch, label_batch):\n",
    "    \"\"\"\n",
    "    Optimize the session on a batch of images and labels\n",
    "    : session: Current TensorFlow session\n",
    "    : optimizer: TensorFlow optimizer function\n",
    "    : keep_probability: keep probability\n",
    "    : feature_batch: Batch of Numpy image data\n",
    "    : label_batch: Batch of Numpy label data\n",
    "    \"\"\"\n",
    "    # TODO: Implement Function\n",
    "    \n",
    "    session.run(optimizer, feed_dict = {x:feature_batch, y:label_batch, keep_prob:keep_probability})\n",
    "\n",
    "\n",
    "\"\"\"\n",
    "DON'T MODIFY ANYTHING IN THIS CELL THAT IS BELOW THIS LINE\n",
    "\"\"\"\n",
    "tests.test_train_nn(train_neural_network)"
   ]
  },
  {
   "cell_type": "markdown",
   "metadata": {
    "deletable": true,
    "editable": true
   },
   "source": [
    "### Show Stats\n",
    "Implement the function `print_stats` to print loss and validation accuracy.  Use the global variables `valid_features` and `valid_labels` to calculate validation accuracy.  Use a keep probability of `1.0` to calculate the loss and validation accuracy."
   ]
  },
  {
   "cell_type": "code",
   "execution_count": 42,
   "metadata": {
    "collapsed": false,
    "deletable": true,
    "editable": true
   },
   "outputs": [],
   "source": [
    "def print_stats(session, feature_batch, label_batch, cost, accuracy):\n",
    "    \"\"\"\n",
    "    Print information about loss and validation accuracy\n",
    "    : session: Current TensorFlow session\n",
    "    : feature_batch: Batch of Numpy image data\n",
    "    : label_batch: Batch of Numpy label data\n",
    "    : cost: TensorFlow cost function\n",
    "    : accuracy: TensorFlow accuracy function\n",
    "    \"\"\"\n",
    "    # TODO: Implement Function\n",
    "    accuracy = session.run(accuracy, feed_dict={x: feature_batch, y: label_batch, keep_prob: 1.0})\n",
    "    cost = session.run(cost, feed_dict={x: feature_batch, y: label_batch, keep_prob: 1.0})\n",
    "    print('Testing Accuracy: {} Testing Loss: {}'.format(accuracy, cost))"
   ]
  },
  {
   "cell_type": "markdown",
   "metadata": {
    "deletable": true,
    "editable": true
   },
   "source": [
    "### Hyperparameters\n",
    "Tune the following parameters:\n",
    "* Set `epochs` to the number of iterations until the network stops learning or start overfitting\n",
    "* Set `batch_size` to the highest number that your machine has memory for.  Most people set them to common sizes of memory:\n",
    " * 64\n",
    " * 128\n",
    " * 256\n",
    " * ...\n",
    "* Set `keep_probability` to the probability of keeping a node using dropout"
   ]
  },
  {
   "cell_type": "code",
   "execution_count": 43,
   "metadata": {
    "collapsed": true,
    "deletable": true,
    "editable": true
   },
   "outputs": [],
   "source": [
    "# TODO: Tune Parameters\n",
    "epochs = 80\n",
    "batch_size = 128\n",
    "keep_probability = 0.5"
   ]
  },
  {
   "cell_type": "markdown",
   "metadata": {
    "deletable": true,
    "editable": true
   },
   "source": [
    "### Train on a Single CIFAR-10 Batch\n",
    "Instead of training the neural network on all the CIFAR-10 batches of data, let's use a single batch. This should save time while you iterate on the model to get a better accuracy.  Once the final validation accuracy is 50% or greater, run the model on all the data in the next section."
   ]
  },
  {
   "cell_type": "code",
   "execution_count": 44,
   "metadata": {
    "collapsed": false,
    "deletable": true,
    "editable": true
   },
   "outputs": [
    {
     "name": "stdout",
     "output_type": "stream",
     "text": [
      "Checking the Training on a Single Batch...\n",
      "Epoch  1, CIFAR-10 Batch 1:  Testing Accuracy: 0.25 Testing Loss: 2.264441967010498\n",
      "Epoch  2, CIFAR-10 Batch 1:  Testing Accuracy: 0.25 Testing Loss: 2.2045888900756836\n",
      "Epoch  3, CIFAR-10 Batch 1:  Testing Accuracy: 0.22499999403953552 Testing Loss: 2.1804795265197754\n",
      "Epoch  4, CIFAR-10 Batch 1:  Testing Accuracy: 0.20000000298023224 Testing Loss: 2.174406051635742\n",
      "Epoch  5, CIFAR-10 Batch 1:  Testing Accuracy: 0.15000000596046448 Testing Loss: 2.1360275745391846\n",
      "Epoch  6, CIFAR-10 Batch 1:  Testing Accuracy: 0.22500000894069672 Testing Loss: 2.1050124168395996\n",
      "Epoch  7, CIFAR-10 Batch 1:  Testing Accuracy: 0.25 Testing Loss: 2.092568874359131\n",
      "Epoch  8, CIFAR-10 Batch 1:  Testing Accuracy: 0.2750000059604645 Testing Loss: 2.042787790298462\n",
      "Epoch  9, CIFAR-10 Batch 1:  Testing Accuracy: 0.3499999940395355 Testing Loss: 2.0127382278442383\n",
      "Epoch 10, CIFAR-10 Batch 1:  Testing Accuracy: 0.375 Testing Loss: 1.9790637493133545\n",
      "Epoch 11, CIFAR-10 Batch 1:  Testing Accuracy: 0.42500001192092896 Testing Loss: 1.9748694896697998\n",
      "Epoch 12, CIFAR-10 Batch 1:  Testing Accuracy: 0.3999999761581421 Testing Loss: 1.9125566482543945\n",
      "Epoch 13, CIFAR-10 Batch 1:  Testing Accuracy: 0.44999998807907104 Testing Loss: 1.8885470628738403\n",
      "Epoch 14, CIFAR-10 Batch 1:  Testing Accuracy: 0.4000000059604645 Testing Loss: 1.9065558910369873\n",
      "Epoch 15, CIFAR-10 Batch 1:  Testing Accuracy: 0.375 Testing Loss: 1.8558623790740967\n",
      "Epoch 16, CIFAR-10 Batch 1:  Testing Accuracy: 0.44999998807907104 Testing Loss: 1.8586270809173584\n",
      "Epoch 17, CIFAR-10 Batch 1:  Testing Accuracy: 0.4000000059604645 Testing Loss: 1.8775269985198975\n",
      "Epoch 18, CIFAR-10 Batch 1:  Testing Accuracy: 0.44999998807907104 Testing Loss: 1.8253700733184814\n",
      "Epoch 19, CIFAR-10 Batch 1:  Testing Accuracy: 0.42499998211860657 Testing Loss: 1.849945306777954\n",
      "Epoch 20, CIFAR-10 Batch 1:  Testing Accuracy: 0.4000000059604645 Testing Loss: 1.8287540674209595\n",
      "Epoch 21, CIFAR-10 Batch 1:  Testing Accuracy: 0.3999999761581421 Testing Loss: 1.869388461112976\n",
      "Epoch 22, CIFAR-10 Batch 1:  Testing Accuracy: 0.5 Testing Loss: 1.8186373710632324\n",
      "Epoch 23, CIFAR-10 Batch 1:  Testing Accuracy: 0.45000001788139343 Testing Loss: 1.8179214000701904\n",
      "Epoch 24, CIFAR-10 Batch 1:  Testing Accuracy: 0.44999998807907104 Testing Loss: 1.8076443672180176\n",
      "Epoch 25, CIFAR-10 Batch 1:  Testing Accuracy: 0.5 Testing Loss: 1.7598570585250854\n",
      "Epoch 26, CIFAR-10 Batch 1:  Testing Accuracy: 0.44999998807907104 Testing Loss: 1.7636295557022095\n",
      "Epoch 27, CIFAR-10 Batch 1:  Testing Accuracy: 0.42500001192092896 Testing Loss: 1.7539937496185303\n",
      "Epoch 28, CIFAR-10 Batch 1:  Testing Accuracy: 0.45000001788139343 Testing Loss: 1.7250378131866455\n",
      "Epoch 29, CIFAR-10 Batch 1:  Testing Accuracy: 0.44999998807907104 Testing Loss: 1.7154552936553955\n",
      "Epoch 30, CIFAR-10 Batch 1:  Testing Accuracy: 0.42500001192092896 Testing Loss: 1.6897939443588257\n",
      "Epoch 31, CIFAR-10 Batch 1:  Testing Accuracy: 0.42500001192092896 Testing Loss: 1.6926673650741577\n",
      "Epoch 32, CIFAR-10 Batch 1:  Testing Accuracy: 0.4750000238418579 Testing Loss: 1.6566250324249268\n",
      "Epoch 33, CIFAR-10 Batch 1:  Testing Accuracy: 0.44999998807907104 Testing Loss: 1.6563820838928223\n",
      "Epoch 34, CIFAR-10 Batch 1:  Testing Accuracy: 0.42499998211860657 Testing Loss: 1.6595258712768555\n",
      "Epoch 35, CIFAR-10 Batch 1:  Testing Accuracy: 0.4000000059604645 Testing Loss: 1.6636362075805664\n",
      "Epoch 36, CIFAR-10 Batch 1:  Testing Accuracy: 0.44999998807907104 Testing Loss: 1.6294559240341187\n",
      "Epoch 37, CIFAR-10 Batch 1:  Testing Accuracy: 0.45000001788139343 Testing Loss: 1.6337918043136597\n",
      "Epoch 38, CIFAR-10 Batch 1:  Testing Accuracy: 0.42500001192092896 Testing Loss: 1.6514863967895508\n",
      "Epoch 39, CIFAR-10 Batch 1:  Testing Accuracy: 0.4749999940395355 Testing Loss: 1.5956799983978271\n",
      "Epoch 40, CIFAR-10 Batch 1:  Testing Accuracy: 0.42499998211860657 Testing Loss: 1.5799486637115479\n",
      "Epoch 41, CIFAR-10 Batch 1:  Testing Accuracy: 0.4749999940395355 Testing Loss: 1.5717445611953735\n",
      "Epoch 42, CIFAR-10 Batch 1:  Testing Accuracy: 0.45000001788139343 Testing Loss: 1.57131826877594\n",
      "Epoch 43, CIFAR-10 Batch 1:  Testing Accuracy: 0.5 Testing Loss: 1.5777801275253296\n",
      "Epoch 44, CIFAR-10 Batch 1:  Testing Accuracy: 0.4750000238418579 Testing Loss: 1.5362136363983154\n",
      "Epoch 45, CIFAR-10 Batch 1:  Testing Accuracy: 0.5 Testing Loss: 1.5183284282684326\n",
      "Epoch 46, CIFAR-10 Batch 1:  Testing Accuracy: 0.4749999940395355 Testing Loss: 1.5336415767669678\n",
      "Epoch 47, CIFAR-10 Batch 1:  Testing Accuracy: 0.4750000238418579 Testing Loss: 1.5265570878982544\n",
      "Epoch 48, CIFAR-10 Batch 1:  Testing Accuracy: 0.4750000238418579 Testing Loss: 1.5047062635421753\n",
      "Epoch 49, CIFAR-10 Batch 1:  Testing Accuracy: 0.45000001788139343 Testing Loss: 1.5156962871551514\n",
      "Epoch 50, CIFAR-10 Batch 1:  Testing Accuracy: 0.5249999761581421 Testing Loss: 1.4767100811004639\n",
      "Epoch 51, CIFAR-10 Batch 1:  Testing Accuracy: 0.5249999761581421 Testing Loss: 1.4821802377700806\n",
      "Epoch 52, CIFAR-10 Batch 1:  Testing Accuracy: 0.5249999761581421 Testing Loss: 1.5095229148864746\n",
      "Epoch 53, CIFAR-10 Batch 1:  Testing Accuracy: 0.5 Testing Loss: 1.5283257961273193\n",
      "Epoch 54, CIFAR-10 Batch 1:  Testing Accuracy: 0.550000011920929 Testing Loss: 1.47622811794281\n",
      "Epoch 55, CIFAR-10 Batch 1:  Testing Accuracy: 0.5249999761581421 Testing Loss: 1.458604335784912\n",
      "Epoch 56, CIFAR-10 Batch 1:  Testing Accuracy: 0.5249999761581421 Testing Loss: 1.4842805862426758\n",
      "Epoch 57, CIFAR-10 Batch 1:  Testing Accuracy: 0.4749999940395355 Testing Loss: 1.4597817659378052\n",
      "Epoch 58, CIFAR-10 Batch 1:  Testing Accuracy: 0.5 Testing Loss: 1.4825477600097656\n",
      "Epoch 59, CIFAR-10 Batch 1:  Testing Accuracy: 0.5249999761581421 Testing Loss: 1.4447097778320312\n",
      "Epoch 60, CIFAR-10 Batch 1:  Testing Accuracy: 0.5 Testing Loss: 1.4689338207244873\n",
      "Epoch 61, CIFAR-10 Batch 1:  Testing Accuracy: 0.4750000238418579 Testing Loss: 1.4579808712005615\n",
      "Epoch 62, CIFAR-10 Batch 1:  Testing Accuracy: 0.4750000238418579 Testing Loss: 1.4477918148040771\n",
      "Epoch 63, CIFAR-10 Batch 1:  Testing Accuracy: 0.5249999761581421 Testing Loss: 1.4630869626998901\n",
      "Epoch 64, CIFAR-10 Batch 1:  Testing Accuracy: 0.550000011920929 Testing Loss: 1.4546664953231812\n",
      "Epoch 65, CIFAR-10 Batch 1:  Testing Accuracy: 0.5249999761581421 Testing Loss: 1.4570810794830322\n",
      "Epoch 66, CIFAR-10 Batch 1:  Testing Accuracy: 0.5249999761581421 Testing Loss: 1.415508508682251\n",
      "Epoch 67, CIFAR-10 Batch 1:  Testing Accuracy: 0.550000011920929 Testing Loss: 1.424178957939148\n",
      "Epoch 68, CIFAR-10 Batch 1:  Testing Accuracy: 0.550000011920929 Testing Loss: 1.453796148300171\n",
      "Epoch 69, CIFAR-10 Batch 1:  Testing Accuracy: 0.5 Testing Loss: 1.459678053855896\n",
      "Epoch 70, CIFAR-10 Batch 1:  Testing Accuracy: 0.5249999761581421 Testing Loss: 1.4125728607177734\n",
      "Epoch 71, CIFAR-10 Batch 1:  Testing Accuracy: 0.550000011920929 Testing Loss: 1.4210315942764282\n",
      "Epoch 72, CIFAR-10 Batch 1:  Testing Accuracy: 0.550000011920929 Testing Loss: 1.3837389945983887\n",
      "Epoch 73, CIFAR-10 Batch 1:  Testing Accuracy: 0.625 Testing Loss: 1.3584167957305908\n",
      "Epoch 74, CIFAR-10 Batch 1:  Testing Accuracy: 0.6000000238418579 Testing Loss: 1.3510727882385254\n",
      "Epoch 75, CIFAR-10 Batch 1:  Testing Accuracy: 0.5 Testing Loss: 1.407434105873108\n",
      "Epoch 76, CIFAR-10 Batch 1:  Testing Accuracy: 0.6000000238418579 Testing Loss: 1.37223482131958\n",
      "Epoch 77, CIFAR-10 Batch 1:  Testing Accuracy: 0.550000011920929 Testing Loss: 1.3523510694503784\n",
      "Epoch 78, CIFAR-10 Batch 1:  Testing Accuracy: 0.6000000238418579 Testing Loss: 1.33347487449646\n",
      "Epoch 79, CIFAR-10 Batch 1:  Testing Accuracy: 0.6000000238418579 Testing Loss: 1.3416175842285156\n",
      "Epoch 80, CIFAR-10 Batch 1:  Testing Accuracy: 0.6750000715255737 Testing Loss: 1.3334126472473145\n"
     ]
    }
   ],
   "source": [
    "\"\"\"\n",
    "DON'T MODIFY ANYTHING IN THIS CELL\n",
    "\"\"\"\n",
    "print('Checking the Training on a Single Batch...')\n",
    "with tf.Session() as sess:\n",
    "    # Initializing the variables\n",
    "    sess.run(tf.global_variables_initializer())\n",
    "    \n",
    "    # Training cycle\n",
    "    for epoch in range(epochs):\n",
    "        batch_i = 1\n",
    "        for batch_features, batch_labels in helper.load_preprocess_training_batch(batch_i, batch_size):\n",
    "            train_neural_network(sess, optimizer, keep_probability, batch_features, batch_labels)\n",
    "        print('Epoch {:>2}, CIFAR-10 Batch {}:  '.format(epoch + 1, batch_i), end='')\n",
    "        print_stats(sess, batch_features, batch_labels, cost, accuracy)"
   ]
  },
  {
   "cell_type": "markdown",
   "metadata": {
    "deletable": true,
    "editable": true
   },
   "source": [
    "### Fully Train the Model\n",
    "Now that you got a good accuracy with a single CIFAR-10 batch, try it with all five batches."
   ]
  },
  {
   "cell_type": "code",
   "execution_count": 45,
   "metadata": {
    "collapsed": false,
    "deletable": true,
    "editable": true
   },
   "outputs": [
    {
     "name": "stdout",
     "output_type": "stream",
     "text": [
      "Training...\n",
      "Epoch  1, CIFAR-10 Batch 1:  Testing Accuracy: 0.10000000149011612 Testing Loss: 2.258552074432373\n",
      "Epoch  1, CIFAR-10 Batch 2:  Testing Accuracy: 0.22500000894069672 Testing Loss: 2.1214051246643066\n",
      "Epoch  1, CIFAR-10 Batch 3:  Testing Accuracy: 0.4750000238418579 Testing Loss: 1.8044447898864746\n",
      "Epoch  1, CIFAR-10 Batch 4:  Testing Accuracy: 0.32500001788139343 Testing Loss: 1.8142857551574707\n",
      "Epoch  1, CIFAR-10 Batch 5:  Testing Accuracy: 0.32499998807907104 Testing Loss: 1.815018892288208\n",
      "Epoch  2, CIFAR-10 Batch 1:  Testing Accuracy: 0.32500001788139343 Testing Loss: 1.9190462827682495\n",
      "Epoch  2, CIFAR-10 Batch 2:  Testing Accuracy: 0.40000003576278687 Testing Loss: 1.8693690299987793\n",
      "Epoch  2, CIFAR-10 Batch 3:  Testing Accuracy: 0.42500001192092896 Testing Loss: 1.6281003952026367\n",
      "Epoch  2, CIFAR-10 Batch 4:  Testing Accuracy: 0.32500001788139343 Testing Loss: 1.7167723178863525\n",
      "Epoch  2, CIFAR-10 Batch 5:  Testing Accuracy: 0.375 Testing Loss: 1.7665061950683594\n",
      "Epoch  3, CIFAR-10 Batch 1:  Testing Accuracy: 0.3500000238418579 Testing Loss: 1.8755637407302856\n",
      "Epoch  3, CIFAR-10 Batch 2:  Testing Accuracy: 0.30000001192092896 Testing Loss: 1.8345637321472168\n",
      "Epoch  3, CIFAR-10 Batch 3:  Testing Accuracy: 0.4750000238418579 Testing Loss: 1.5812164545059204\n",
      "Epoch  3, CIFAR-10 Batch 4:  Testing Accuracy: 0.3750000298023224 Testing Loss: 1.6431629657745361\n",
      "Epoch  3, CIFAR-10 Batch 5:  Testing Accuracy: 0.5 Testing Loss: 1.6455501317977905\n",
      "Epoch  4, CIFAR-10 Batch 1:  Testing Accuracy: 0.30000001192092896 Testing Loss: 1.8567471504211426\n",
      "Epoch  4, CIFAR-10 Batch 2:  Testing Accuracy: 0.3999999761581421 Testing Loss: 1.7816331386566162\n",
      "Epoch  4, CIFAR-10 Batch 3:  Testing Accuracy: 0.42500001192092896 Testing Loss: 1.575477123260498\n",
      "Epoch  4, CIFAR-10 Batch 4:  Testing Accuracy: 0.32500001788139343 Testing Loss: 1.6311211585998535\n",
      "Epoch  4, CIFAR-10 Batch 5:  Testing Accuracy: 0.3750000298023224 Testing Loss: 1.679643154144287\n",
      "Epoch  5, CIFAR-10 Batch 1:  Testing Accuracy: 0.375 Testing Loss: 1.7969419956207275\n",
      "Epoch  5, CIFAR-10 Batch 2:  Testing Accuracy: 0.3999999761581421 Testing Loss: 1.7314854860305786\n",
      "Epoch  5, CIFAR-10 Batch 3:  Testing Accuracy: 0.4750000238418579 Testing Loss: 1.487937569618225\n",
      "Epoch  5, CIFAR-10 Batch 4:  Testing Accuracy: 0.3750000298023224 Testing Loss: 1.5865017175674438\n",
      "Epoch  5, CIFAR-10 Batch 5:  Testing Accuracy: 0.3999999761581421 Testing Loss: 1.6206058263778687\n",
      "Epoch  6, CIFAR-10 Batch 1:  Testing Accuracy: 0.375 Testing Loss: 1.7713569402694702\n",
      "Epoch  6, CIFAR-10 Batch 2:  Testing Accuracy: 0.44999998807907104 Testing Loss: 1.713273048400879\n",
      "Epoch  6, CIFAR-10 Batch 3:  Testing Accuracy: 0.42500001192092896 Testing Loss: 1.4787777662277222\n",
      "Epoch  6, CIFAR-10 Batch 4:  Testing Accuracy: 0.42500001192092896 Testing Loss: 1.5695910453796387\n",
      "Epoch  6, CIFAR-10 Batch 5:  Testing Accuracy: 0.4750000238418579 Testing Loss: 1.5688691139221191\n",
      "Epoch  7, CIFAR-10 Batch 1:  Testing Accuracy: 0.44999998807907104 Testing Loss: 1.7285749912261963\n",
      "Epoch  7, CIFAR-10 Batch 2:  Testing Accuracy: 0.4000000059604645 Testing Loss: 1.5854811668395996\n",
      "Epoch  7, CIFAR-10 Batch 3:  Testing Accuracy: 0.42500001192092896 Testing Loss: 1.4278244972229004\n",
      "Epoch  7, CIFAR-10 Batch 4:  Testing Accuracy: 0.4000000059604645 Testing Loss: 1.557981252670288\n",
      "Epoch  7, CIFAR-10 Batch 5:  Testing Accuracy: 0.375 Testing Loss: 1.6413989067077637\n",
      "Epoch  8, CIFAR-10 Batch 1:  Testing Accuracy: 0.4000000059604645 Testing Loss: 1.7278047800064087\n",
      "Epoch  8, CIFAR-10 Batch 2:  Testing Accuracy: 0.45000001788139343 Testing Loss: 1.5958645343780518\n",
      "Epoch  8, CIFAR-10 Batch 3:  Testing Accuracy: 0.5 Testing Loss: 1.4478180408477783\n",
      "Epoch  8, CIFAR-10 Batch 4:  Testing Accuracy: 0.4000000059604645 Testing Loss: 1.5359280109405518\n",
      "Epoch  8, CIFAR-10 Batch 5:  Testing Accuracy: 0.42500001192092896 Testing Loss: 1.6355295181274414\n",
      "Epoch  9, CIFAR-10 Batch 1:  Testing Accuracy: 0.42500001192092896 Testing Loss: 1.7279168367385864\n",
      "Epoch  9, CIFAR-10 Batch 2:  Testing Accuracy: 0.5 Testing Loss: 1.577182650566101\n",
      "Epoch  9, CIFAR-10 Batch 3:  Testing Accuracy: 0.5 Testing Loss: 1.4166563749313354\n",
      "Epoch  9, CIFAR-10 Batch 4:  Testing Accuracy: 0.45000001788139343 Testing Loss: 1.5466820001602173\n",
      "Epoch  9, CIFAR-10 Batch 5:  Testing Accuracy: 0.3750000298023224 Testing Loss: 1.5223100185394287\n",
      "Epoch 10, CIFAR-10 Batch 1:  Testing Accuracy: 0.42500001192092896 Testing Loss: 1.6837388277053833\n",
      "Epoch 10, CIFAR-10 Batch 2:  Testing Accuracy: 0.5250000357627869 Testing Loss: 1.5379552841186523\n",
      "Epoch 10, CIFAR-10 Batch 3:  Testing Accuracy: 0.5 Testing Loss: 1.3816847801208496\n",
      "Epoch 10, CIFAR-10 Batch 4:  Testing Accuracy: 0.4000000059604645 Testing Loss: 1.5542888641357422\n",
      "Epoch 10, CIFAR-10 Batch 5:  Testing Accuracy: 0.45000001788139343 Testing Loss: 1.5134711265563965\n",
      "Epoch 11, CIFAR-10 Batch 1:  Testing Accuracy: 0.5249999761581421 Testing Loss: 1.6583261489868164\n",
      "Epoch 11, CIFAR-10 Batch 2:  Testing Accuracy: 0.5249999761581421 Testing Loss: 1.5882370471954346\n",
      "Epoch 11, CIFAR-10 Batch 3:  Testing Accuracy: 0.550000011920929 Testing Loss: 1.3654969930648804\n",
      "Epoch 11, CIFAR-10 Batch 4:  Testing Accuracy: 0.42500001192092896 Testing Loss: 1.5330300331115723\n",
      "Epoch 11, CIFAR-10 Batch 5:  Testing Accuracy: 0.42500001192092896 Testing Loss: 1.4808789491653442\n",
      "Epoch 12, CIFAR-10 Batch 1:  Testing Accuracy: 0.45000001788139343 Testing Loss: 1.7113919258117676\n",
      "Epoch 12, CIFAR-10 Batch 2:  Testing Accuracy: 0.4749999940395355 Testing Loss: 1.4795238971710205\n",
      "Epoch 12, CIFAR-10 Batch 3:  Testing Accuracy: 0.5250000357627869 Testing Loss: 1.3405869007110596\n",
      "Epoch 12, CIFAR-10 Batch 4:  Testing Accuracy: 0.4000000059604645 Testing Loss: 1.533083438873291\n",
      "Epoch 12, CIFAR-10 Batch 5:  Testing Accuracy: 0.42500001192092896 Testing Loss: 1.4865951538085938\n",
      "Epoch 13, CIFAR-10 Batch 1:  Testing Accuracy: 0.42500001192092896 Testing Loss: 1.624858021736145\n",
      "Epoch 13, CIFAR-10 Batch 2:  Testing Accuracy: 0.5250000357627869 Testing Loss: 1.4518024921417236\n",
      "Epoch 13, CIFAR-10 Batch 3:  Testing Accuracy: 0.5750000476837158 Testing Loss: 1.3168582916259766\n",
      "Epoch 13, CIFAR-10 Batch 4:  Testing Accuracy: 0.42500001192092896 Testing Loss: 1.4921741485595703\n",
      "Epoch 13, CIFAR-10 Batch 5:  Testing Accuracy: 0.42500001192092896 Testing Loss: 1.4629640579223633\n",
      "Epoch 14, CIFAR-10 Batch 1:  Testing Accuracy: 0.42500001192092896 Testing Loss: 1.6293084621429443\n",
      "Epoch 14, CIFAR-10 Batch 2:  Testing Accuracy: 0.42500001192092896 Testing Loss: 1.4495034217834473\n",
      "Epoch 14, CIFAR-10 Batch 3:  Testing Accuracy: 0.5250000357627869 Testing Loss: 1.3187661170959473\n",
      "Epoch 14, CIFAR-10 Batch 4:  Testing Accuracy: 0.42499998211860657 Testing Loss: 1.5057895183563232\n",
      "Epoch 14, CIFAR-10 Batch 5:  Testing Accuracy: 0.40000003576278687 Testing Loss: 1.4428181648254395\n",
      "Epoch 15, CIFAR-10 Batch 1:  Testing Accuracy: 0.5 Testing Loss: 1.5898652076721191\n",
      "Epoch 15, CIFAR-10 Batch 2:  Testing Accuracy: 0.5250000357627869 Testing Loss: 1.4133998155593872\n",
      "Epoch 15, CIFAR-10 Batch 3:  Testing Accuracy: 0.625 Testing Loss: 1.2863757610321045\n",
      "Epoch 15, CIFAR-10 Batch 4:  Testing Accuracy: 0.40000003576278687 Testing Loss: 1.4589365720748901\n",
      "Epoch 15, CIFAR-10 Batch 5:  Testing Accuracy: 0.42500001192092896 Testing Loss: 1.4519507884979248\n",
      "Epoch 16, CIFAR-10 Batch 1:  Testing Accuracy: 0.5 Testing Loss: 1.539374589920044\n",
      "Epoch 16, CIFAR-10 Batch 2:  Testing Accuracy: 0.42500001192092896 Testing Loss: 1.4394984245300293\n",
      "Epoch 16, CIFAR-10 Batch 3:  Testing Accuracy: 0.6500000357627869 Testing Loss: 1.2851563692092896\n",
      "Epoch 16, CIFAR-10 Batch 4:  Testing Accuracy: 0.4000000059604645 Testing Loss: 1.4470733404159546\n",
      "Epoch 16, CIFAR-10 Batch 5:  Testing Accuracy: 0.42500001192092896 Testing Loss: 1.4463390111923218\n",
      "Epoch 17, CIFAR-10 Batch 1:  Testing Accuracy: 0.42500001192092896 Testing Loss: 1.5429885387420654\n",
      "Epoch 17, CIFAR-10 Batch 2:  Testing Accuracy: 0.5249999761581421 Testing Loss: 1.4239213466644287\n",
      "Epoch 17, CIFAR-10 Batch 3:  Testing Accuracy: 0.6000000238418579 Testing Loss: 1.2878849506378174\n",
      "Epoch 17, CIFAR-10 Batch 4:  Testing Accuracy: 0.5 Testing Loss: 1.437146782875061\n",
      "Epoch 17, CIFAR-10 Batch 5:  Testing Accuracy: 0.42500001192092896 Testing Loss: 1.428078532218933\n",
      "Epoch 18, CIFAR-10 Batch 1:  Testing Accuracy: 0.4000000059604645 Testing Loss: 1.509824514389038\n",
      "Epoch 18, CIFAR-10 Batch 2:  Testing Accuracy: 0.4749999940395355 Testing Loss: 1.4161372184753418\n",
      "Epoch 18, CIFAR-10 Batch 3:  Testing Accuracy: 0.6499999761581421 Testing Loss: 1.267678141593933\n",
      "Epoch 18, CIFAR-10 Batch 4:  Testing Accuracy: 0.45000001788139343 Testing Loss: 1.4350054264068604\n",
      "Epoch 18, CIFAR-10 Batch 5:  Testing Accuracy: 0.40000003576278687 Testing Loss: 1.4579522609710693\n",
      "Epoch 19, CIFAR-10 Batch 1:  Testing Accuracy: 0.4749999940395355 Testing Loss: 1.4759571552276611\n",
      "Epoch 19, CIFAR-10 Batch 2:  Testing Accuracy: 0.5000000596046448 Testing Loss: 1.4018062353134155\n",
      "Epoch 19, CIFAR-10 Batch 3:  Testing Accuracy: 0.6250000596046448 Testing Loss: 1.256234049797058\n",
      "Epoch 19, CIFAR-10 Batch 4:  Testing Accuracy: 0.44999998807907104 Testing Loss: 1.4431281089782715\n",
      "Epoch 19, CIFAR-10 Batch 5:  Testing Accuracy: 0.45000001788139343 Testing Loss: 1.4009618759155273\n",
      "Epoch 20, CIFAR-10 Batch 1:  Testing Accuracy: 0.4750000238418579 Testing Loss: 1.4290823936462402\n",
      "Epoch 20, CIFAR-10 Batch 2:  Testing Accuracy: 0.44999998807907104 Testing Loss: 1.444144606590271\n",
      "Epoch 20, CIFAR-10 Batch 3:  Testing Accuracy: 0.675000011920929 Testing Loss: 1.2384216785430908\n",
      "Epoch 20, CIFAR-10 Batch 4:  Testing Accuracy: 0.4749999940395355 Testing Loss: 1.4240790605545044\n",
      "Epoch 20, CIFAR-10 Batch 5:  Testing Accuracy: 0.5250000357627869 Testing Loss: 1.3778457641601562\n",
      "Epoch 21, CIFAR-10 Batch 1:  Testing Accuracy: 0.5249999761581421 Testing Loss: 1.433403730392456\n",
      "Epoch 21, CIFAR-10 Batch 2:  Testing Accuracy: 0.5249999761581421 Testing Loss: 1.410261869430542\n",
      "Epoch 21, CIFAR-10 Batch 3:  Testing Accuracy: 0.7250000238418579 Testing Loss: 1.1654047966003418\n",
      "Epoch 21, CIFAR-10 Batch 4:  Testing Accuracy: 0.4749999940395355 Testing Loss: 1.417320728302002\n",
      "Epoch 21, CIFAR-10 Batch 5:  Testing Accuracy: 0.5 Testing Loss: 1.395912528038025\n",
      "Epoch 22, CIFAR-10 Batch 1:  Testing Accuracy: 0.4750000238418579 Testing Loss: 1.4413280487060547\n",
      "Epoch 22, CIFAR-10 Batch 2:  Testing Accuracy: 0.42500001192092896 Testing Loss: 1.414847731590271\n",
      "Epoch 22, CIFAR-10 Batch 3:  Testing Accuracy: 0.625 Testing Loss: 1.1913237571716309\n",
      "Epoch 22, CIFAR-10 Batch 4:  Testing Accuracy: 0.5 Testing Loss: 1.4181967973709106\n",
      "Epoch 22, CIFAR-10 Batch 5:  Testing Accuracy: 0.5250000357627869 Testing Loss: 1.416197657585144\n",
      "Epoch 23, CIFAR-10 Batch 1:  Testing Accuracy: 0.5 Testing Loss: 1.4709720611572266\n",
      "Epoch 23, CIFAR-10 Batch 2:  Testing Accuracy: 0.4000000059604645 Testing Loss: 1.433036208152771\n",
      "Epoch 23, CIFAR-10 Batch 3:  Testing Accuracy: 0.6499999761581421 Testing Loss: 1.1853647232055664\n",
      "Epoch 23, CIFAR-10 Batch 4:  Testing Accuracy: 0.5 Testing Loss: 1.3981900215148926\n",
      "Epoch 23, CIFAR-10 Batch 5:  Testing Accuracy: 0.42500001192092896 Testing Loss: 1.3779871463775635\n",
      "Epoch 24, CIFAR-10 Batch 1:  Testing Accuracy: 0.5 Testing Loss: 1.4077175855636597\n",
      "Epoch 24, CIFAR-10 Batch 2:  Testing Accuracy: 0.4749999940395355 Testing Loss: 1.3797492980957031\n",
      "Epoch 24, CIFAR-10 Batch 3:  Testing Accuracy: 0.7250000238418579 Testing Loss: 1.1773278713226318\n",
      "Epoch 24, CIFAR-10 Batch 4:  Testing Accuracy: 0.5 Testing Loss: 1.389192819595337\n",
      "Epoch 24, CIFAR-10 Batch 5:  Testing Accuracy: 0.5249999761581421 Testing Loss: 1.4113256931304932\n",
      "Epoch 25, CIFAR-10 Batch 1:  Testing Accuracy: 0.550000011920929 Testing Loss: 1.397882342338562\n",
      "Epoch 25, CIFAR-10 Batch 2:  Testing Accuracy: 0.4000000059604645 Testing Loss: 1.4164185523986816\n",
      "Epoch 25, CIFAR-10 Batch 3:  Testing Accuracy: 0.7000000476837158 Testing Loss: 1.1450865268707275\n",
      "Epoch 25, CIFAR-10 Batch 4:  Testing Accuracy: 0.45000001788139343 Testing Loss: 1.3565824031829834\n",
      "Epoch 25, CIFAR-10 Batch 5:  Testing Accuracy: 0.4750000238418579 Testing Loss: 1.3705089092254639\n",
      "Epoch 26, CIFAR-10 Batch 1:  Testing Accuracy: 0.5249999761581421 Testing Loss: 1.3697073459625244\n",
      "Epoch 26, CIFAR-10 Batch 2:  Testing Accuracy: 0.4749999940395355 Testing Loss: 1.4170547723770142\n",
      "Epoch 26, CIFAR-10 Batch 3:  Testing Accuracy: 0.6499999761581421 Testing Loss: 1.1995350122451782\n",
      "Epoch 26, CIFAR-10 Batch 4:  Testing Accuracy: 0.4750000238418579 Testing Loss: 1.347689151763916\n",
      "Epoch 26, CIFAR-10 Batch 5:  Testing Accuracy: 0.5249999761581421 Testing Loss: 1.3500916957855225\n",
      "Epoch 27, CIFAR-10 Batch 1:  Testing Accuracy: 0.4749999940395355 Testing Loss: 1.3394887447357178\n",
      "Epoch 27, CIFAR-10 Batch 2:  Testing Accuracy: 0.42500001192092896 Testing Loss: 1.3850488662719727\n",
      "Epoch 27, CIFAR-10 Batch 3:  Testing Accuracy: 0.7250000238418579 Testing Loss: 1.1786949634552002\n",
      "Epoch 27, CIFAR-10 Batch 4:  Testing Accuracy: 0.4750000238418579 Testing Loss: 1.353564739227295\n",
      "Epoch 27, CIFAR-10 Batch 5:  Testing Accuracy: 0.44999998807907104 Testing Loss: 1.384899377822876\n",
      "Epoch 28, CIFAR-10 Batch 1:  Testing Accuracy: 0.5 Testing Loss: 1.3707642555236816\n",
      "Epoch 28, CIFAR-10 Batch 2:  Testing Accuracy: 0.4749999940395355 Testing Loss: 1.3584489822387695\n",
      "Epoch 28, CIFAR-10 Batch 3:  Testing Accuracy: 0.7000000476837158 Testing Loss: 1.1640338897705078\n",
      "Epoch 28, CIFAR-10 Batch 4:  Testing Accuracy: 0.4750000238418579 Testing Loss: 1.3483431339263916\n",
      "Epoch 28, CIFAR-10 Batch 5:  Testing Accuracy: 0.550000011920929 Testing Loss: 1.35819673538208\n",
      "Epoch 29, CIFAR-10 Batch 1:  Testing Accuracy: 0.4749999940395355 Testing Loss: 1.3772350549697876\n",
      "Epoch 29, CIFAR-10 Batch 2:  Testing Accuracy: 0.4749999940395355 Testing Loss: 1.3604671955108643\n",
      "Epoch 29, CIFAR-10 Batch 3:  Testing Accuracy: 0.6499999761581421 Testing Loss: 1.1332921981811523\n",
      "Epoch 29, CIFAR-10 Batch 4:  Testing Accuracy: 0.45000001788139343 Testing Loss: 1.3363137245178223\n",
      "Epoch 29, CIFAR-10 Batch 5:  Testing Accuracy: 0.4750000238418579 Testing Loss: 1.3464891910552979\n",
      "Epoch 30, CIFAR-10 Batch 1:  Testing Accuracy: 0.5 Testing Loss: 1.316135048866272\n",
      "Epoch 30, CIFAR-10 Batch 2:  Testing Accuracy: 0.4750000238418579 Testing Loss: 1.3593279123306274\n",
      "Epoch 30, CIFAR-10 Batch 3:  Testing Accuracy: 0.7000000476837158 Testing Loss: 1.154292345046997\n",
      "Epoch 30, CIFAR-10 Batch 4:  Testing Accuracy: 0.550000011920929 Testing Loss: 1.3662737607955933\n",
      "Epoch 30, CIFAR-10 Batch 5:  Testing Accuracy: 0.5750000476837158 Testing Loss: 1.2729030847549438\n",
      "Epoch 31, CIFAR-10 Batch 1:  Testing Accuracy: 0.5 Testing Loss: 1.3176943063735962\n",
      "Epoch 31, CIFAR-10 Batch 2:  Testing Accuracy: 0.42500001192092896 Testing Loss: 1.4249368906021118\n",
      "Epoch 31, CIFAR-10 Batch 3:  Testing Accuracy: 0.6499999761581421 Testing Loss: 1.1121013164520264\n",
      "Epoch 31, CIFAR-10 Batch 4:  Testing Accuracy: 0.5 Testing Loss: 1.304397463798523\n",
      "Epoch 31, CIFAR-10 Batch 5:  Testing Accuracy: 0.45000001788139343 Testing Loss: 1.2983183860778809\n",
      "Epoch 32, CIFAR-10 Batch 1:  Testing Accuracy: 0.5249999761581421 Testing Loss: 1.3543484210968018\n",
      "Epoch 32, CIFAR-10 Batch 2:  Testing Accuracy: 0.44999998807907104 Testing Loss: 1.396220326423645\n",
      "Epoch 32, CIFAR-10 Batch 3:  Testing Accuracy: 0.6000000238418579 Testing Loss: 1.1517717838287354\n",
      "Epoch 32, CIFAR-10 Batch 4:  Testing Accuracy: 0.550000011920929 Testing Loss: 1.319690465927124\n",
      "Epoch 32, CIFAR-10 Batch 5:  Testing Accuracy: 0.5249999761581421 Testing Loss: 1.2624874114990234\n",
      "Epoch 33, CIFAR-10 Batch 1:  Testing Accuracy: 0.4749999940395355 Testing Loss: 1.283862590789795\n",
      "Epoch 33, CIFAR-10 Batch 2:  Testing Accuracy: 0.42500001192092896 Testing Loss: 1.3462541103363037\n",
      "Epoch 33, CIFAR-10 Batch 3:  Testing Accuracy: 0.6499999761581421 Testing Loss: 1.1141650676727295\n",
      "Epoch 33, CIFAR-10 Batch 4:  Testing Accuracy: 0.550000011920929 Testing Loss: 1.3161509037017822\n",
      "Epoch 33, CIFAR-10 Batch 5:  Testing Accuracy: 0.47499996423721313 Testing Loss: 1.2842023372650146\n",
      "Epoch 34, CIFAR-10 Batch 1:  Testing Accuracy: 0.6000000238418579 Testing Loss: 1.2763230800628662\n",
      "Epoch 34, CIFAR-10 Batch 2:  Testing Accuracy: 0.42500001192092896 Testing Loss: 1.340200662612915\n",
      "Epoch 34, CIFAR-10 Batch 3:  Testing Accuracy: 0.7000000476837158 Testing Loss: 1.102512240409851\n",
      "Epoch 34, CIFAR-10 Batch 4:  Testing Accuracy: 0.5 Testing Loss: 1.301872730255127\n",
      "Epoch 34, CIFAR-10 Batch 5:  Testing Accuracy: 0.5 Testing Loss: 1.2714415788650513\n",
      "Epoch 35, CIFAR-10 Batch 1:  Testing Accuracy: 0.574999988079071 Testing Loss: 1.2927992343902588\n",
      "Epoch 35, CIFAR-10 Batch 2:  Testing Accuracy: 0.42500001192092896 Testing Loss: 1.3177908658981323\n",
      "Epoch 35, CIFAR-10 Batch 3:  Testing Accuracy: 0.7000000476837158 Testing Loss: 1.1255505084991455\n",
      "Epoch 35, CIFAR-10 Batch 4:  Testing Accuracy: 0.550000011920929 Testing Loss: 1.2915502786636353\n",
      "Epoch 35, CIFAR-10 Batch 5:  Testing Accuracy: 0.5 Testing Loss: 1.270136833190918\n",
      "Epoch 36, CIFAR-10 Batch 1:  Testing Accuracy: 0.550000011920929 Testing Loss: 1.2867399454116821\n",
      "Epoch 36, CIFAR-10 Batch 2:  Testing Accuracy: 0.45000001788139343 Testing Loss: 1.292752981185913\n",
      "Epoch 36, CIFAR-10 Batch 3:  Testing Accuracy: 0.6749999523162842 Testing Loss: 1.128972053527832\n",
      "Epoch 36, CIFAR-10 Batch 4:  Testing Accuracy: 0.5 Testing Loss: 1.2915515899658203\n",
      "Epoch 36, CIFAR-10 Batch 5:  Testing Accuracy: 0.47499996423721313 Testing Loss: 1.2719509601593018\n",
      "Epoch 37, CIFAR-10 Batch 1:  Testing Accuracy: 0.4749999940395355 Testing Loss: 1.278465747833252\n",
      "Epoch 37, CIFAR-10 Batch 2:  Testing Accuracy: 0.5 Testing Loss: 1.3155766725540161\n",
      "Epoch 37, CIFAR-10 Batch 3:  Testing Accuracy: 0.7000000476837158 Testing Loss: 1.09665048122406\n",
      "Epoch 37, CIFAR-10 Batch 4:  Testing Accuracy: 0.5750000476837158 Testing Loss: 1.2853593826293945\n",
      "Epoch 37, CIFAR-10 Batch 5:  Testing Accuracy: 0.5 Testing Loss: 1.281754732131958\n",
      "Epoch 38, CIFAR-10 Batch 1:  Testing Accuracy: 0.574999988079071 Testing Loss: 1.3030593395233154\n",
      "Epoch 38, CIFAR-10 Batch 2:  Testing Accuracy: 0.5 Testing Loss: 1.298780918121338\n",
      "Epoch 38, CIFAR-10 Batch 3:  Testing Accuracy: 0.6499999761581421 Testing Loss: 1.1065001487731934\n",
      "Epoch 38, CIFAR-10 Batch 4:  Testing Accuracy: 0.550000011920929 Testing Loss: 1.3010566234588623\n",
      "Epoch 38, CIFAR-10 Batch 5:  Testing Accuracy: 0.550000011920929 Testing Loss: 1.2719063758850098\n",
      "Epoch 39, CIFAR-10 Batch 1:  Testing Accuracy: 0.5249999761581421 Testing Loss: 1.3327218294143677\n",
      "Epoch 39, CIFAR-10 Batch 2:  Testing Accuracy: 0.4749999940395355 Testing Loss: 1.3048118352890015\n",
      "Epoch 39, CIFAR-10 Batch 3:  Testing Accuracy: 0.625 Testing Loss: 1.1291378736495972\n",
      "Epoch 39, CIFAR-10 Batch 4:  Testing Accuracy: 0.5 Testing Loss: 1.275726318359375\n",
      "Epoch 39, CIFAR-10 Batch 5:  Testing Accuracy: 0.44999998807907104 Testing Loss: 1.274686336517334\n",
      "Epoch 40, CIFAR-10 Batch 1:  Testing Accuracy: 0.550000011920929 Testing Loss: 1.3075493574142456\n",
      "Epoch 40, CIFAR-10 Batch 2:  Testing Accuracy: 0.5 Testing Loss: 1.3116275072097778\n",
      "Epoch 40, CIFAR-10 Batch 3:  Testing Accuracy: 0.6499999761581421 Testing Loss: 1.0938353538513184\n",
      "Epoch 40, CIFAR-10 Batch 4:  Testing Accuracy: 0.5250000357627869 Testing Loss: 1.2697229385375977\n",
      "Epoch 40, CIFAR-10 Batch 5:  Testing Accuracy: 0.5 Testing Loss: 1.296069622039795\n",
      "Epoch 41, CIFAR-10 Batch 1:  Testing Accuracy: 0.4749999940395355 Testing Loss: 1.2892916202545166\n",
      "Epoch 41, CIFAR-10 Batch 2:  Testing Accuracy: 0.4750000238418579 Testing Loss: 1.291719675064087\n",
      "Epoch 41, CIFAR-10 Batch 3:  Testing Accuracy: 0.6499999761581421 Testing Loss: 1.1058056354522705\n",
      "Epoch 41, CIFAR-10 Batch 4:  Testing Accuracy: 0.5250000357627869 Testing Loss: 1.2587920427322388\n",
      "Epoch 41, CIFAR-10 Batch 5:  Testing Accuracy: 0.5249999761581421 Testing Loss: 1.2479536533355713\n",
      "Epoch 42, CIFAR-10 Batch 1:  Testing Accuracy: 0.5 Testing Loss: 1.2567334175109863\n",
      "Epoch 42, CIFAR-10 Batch 2:  Testing Accuracy: 0.42500001192092896 Testing Loss: 1.29863703250885\n",
      "Epoch 42, CIFAR-10 Batch 3:  Testing Accuracy: 0.7250000238418579 Testing Loss: 1.081127405166626\n",
      "Epoch 42, CIFAR-10 Batch 4:  Testing Accuracy: 0.550000011920929 Testing Loss: 1.2778573036193848\n",
      "Epoch 42, CIFAR-10 Batch 5:  Testing Accuracy: 0.550000011920929 Testing Loss: 1.2298043966293335\n",
      "Epoch 43, CIFAR-10 Batch 1:  Testing Accuracy: 0.4750000238418579 Testing Loss: 1.2404675483703613\n",
      "Epoch 43, CIFAR-10 Batch 2:  Testing Accuracy: 0.44999998807907104 Testing Loss: 1.3016457557678223\n",
      "Epoch 43, CIFAR-10 Batch 3:  Testing Accuracy: 0.6000000238418579 Testing Loss: 1.1151262521743774\n",
      "Epoch 43, CIFAR-10 Batch 4:  Testing Accuracy: 0.550000011920929 Testing Loss: 1.2743761539459229\n",
      "Epoch 43, CIFAR-10 Batch 5:  Testing Accuracy: 0.5 Testing Loss: 1.2399876117706299\n",
      "Epoch 44, CIFAR-10 Batch 1:  Testing Accuracy: 0.5 Testing Loss: 1.24341881275177\n",
      "Epoch 44, CIFAR-10 Batch 2:  Testing Accuracy: 0.44999998807907104 Testing Loss: 1.2616931200027466\n",
      "Epoch 44, CIFAR-10 Batch 3:  Testing Accuracy: 0.6499999761581421 Testing Loss: 1.1067612171173096\n",
      "Epoch 44, CIFAR-10 Batch 4:  Testing Accuracy: 0.6000000238418579 Testing Loss: 1.2743250131607056\n",
      "Epoch 44, CIFAR-10 Batch 5:  Testing Accuracy: 0.5 Testing Loss: 1.2002602815628052\n",
      "Epoch 45, CIFAR-10 Batch 1:  Testing Accuracy: 0.5 Testing Loss: 1.2069728374481201\n",
      "Epoch 45, CIFAR-10 Batch 2:  Testing Accuracy: 0.5249999761581421 Testing Loss: 1.2951716184616089\n",
      "Epoch 45, CIFAR-10 Batch 3:  Testing Accuracy: 0.6749999523162842 Testing Loss: 1.0905215740203857\n",
      "Epoch 45, CIFAR-10 Batch 4:  Testing Accuracy: 0.550000011920929 Testing Loss: 1.2558492422103882\n",
      "Epoch 45, CIFAR-10 Batch 5:  Testing Accuracy: 0.5249999761581421 Testing Loss: 1.2053321599960327\n",
      "Epoch 46, CIFAR-10 Batch 1:  Testing Accuracy: 0.5250000357627869 Testing Loss: 1.190489649772644\n",
      "Epoch 46, CIFAR-10 Batch 2:  Testing Accuracy: 0.5 Testing Loss: 1.2801622152328491\n",
      "Epoch 46, CIFAR-10 Batch 3:  Testing Accuracy: 0.7000000476837158 Testing Loss: 1.0752185583114624\n",
      "Epoch 46, CIFAR-10 Batch 4:  Testing Accuracy: 0.5750000476837158 Testing Loss: 1.2510993480682373\n",
      "Epoch 46, CIFAR-10 Batch 5:  Testing Accuracy: 0.5 Testing Loss: 1.2355598211288452\n",
      "Epoch 47, CIFAR-10 Batch 1:  Testing Accuracy: 0.550000011920929 Testing Loss: 1.2019978761672974\n",
      "Epoch 47, CIFAR-10 Batch 2:  Testing Accuracy: 0.550000011920929 Testing Loss: 1.2622826099395752\n",
      "Epoch 47, CIFAR-10 Batch 3:  Testing Accuracy: 0.6499999761581421 Testing Loss: 1.0722038745880127\n",
      "Epoch 47, CIFAR-10 Batch 4:  Testing Accuracy: 0.5249999761581421 Testing Loss: 1.2267611026763916\n",
      "Epoch 47, CIFAR-10 Batch 5:  Testing Accuracy: 0.550000011920929 Testing Loss: 1.2022864818572998\n",
      "Epoch 48, CIFAR-10 Batch 1:  Testing Accuracy: 0.574999988079071 Testing Loss: 1.1996142864227295\n",
      "Epoch 48, CIFAR-10 Batch 2:  Testing Accuracy: 0.42500001192092896 Testing Loss: 1.3077070713043213\n",
      "Epoch 48, CIFAR-10 Batch 3:  Testing Accuracy: 0.6000000238418579 Testing Loss: 1.144059181213379\n",
      "Epoch 48, CIFAR-10 Batch 4:  Testing Accuracy: 0.6000000238418579 Testing Loss: 1.2627639770507812\n",
      "Epoch 48, CIFAR-10 Batch 5:  Testing Accuracy: 0.4750000238418579 Testing Loss: 1.2201980352401733\n",
      "Epoch 49, CIFAR-10 Batch 1:  Testing Accuracy: 0.550000011920929 Testing Loss: 1.2344876527786255\n",
      "Epoch 49, CIFAR-10 Batch 2:  Testing Accuracy: 0.5 Testing Loss: 1.2612926959991455\n",
      "Epoch 49, CIFAR-10 Batch 3:  Testing Accuracy: 0.6749999523162842 Testing Loss: 1.0719294548034668\n",
      "Epoch 49, CIFAR-10 Batch 4:  Testing Accuracy: 0.5750000476837158 Testing Loss: 1.2531059980392456\n",
      "Epoch 49, CIFAR-10 Batch 5:  Testing Accuracy: 0.550000011920929 Testing Loss: 1.197103500366211\n",
      "Epoch 50, CIFAR-10 Batch 1:  Testing Accuracy: 0.6000000238418579 Testing Loss: 1.22130286693573\n",
      "Epoch 50, CIFAR-10 Batch 2:  Testing Accuracy: 0.5 Testing Loss: 1.2894750833511353\n",
      "Epoch 50, CIFAR-10 Batch 3:  Testing Accuracy: 0.6000000238418579 Testing Loss: 1.098669171333313\n",
      "Epoch 50, CIFAR-10 Batch 4:  Testing Accuracy: 0.5250000357627869 Testing Loss: 1.2270845174789429\n",
      "Epoch 50, CIFAR-10 Batch 5:  Testing Accuracy: 0.574999988079071 Testing Loss: 1.1821281909942627\n",
      "Epoch 51, CIFAR-10 Batch 1:  Testing Accuracy: 0.5750000476837158 Testing Loss: 1.1863948106765747\n",
      "Epoch 51, CIFAR-10 Batch 2:  Testing Accuracy: 0.4749999940395355 Testing Loss: 1.2594099044799805\n",
      "Epoch 51, CIFAR-10 Batch 3:  Testing Accuracy: 0.6000000238418579 Testing Loss: 1.0746290683746338\n",
      "Epoch 51, CIFAR-10 Batch 4:  Testing Accuracy: 0.550000011920929 Testing Loss: 1.2885857820510864\n",
      "Epoch 51, CIFAR-10 Batch 5:  Testing Accuracy: 0.550000011920929 Testing Loss: 1.1799174547195435\n",
      "Epoch 52, CIFAR-10 Batch 1:  Testing Accuracy: 0.5750000476837158 Testing Loss: 1.1768534183502197\n",
      "Epoch 52, CIFAR-10 Batch 2:  Testing Accuracy: 0.4749999940395355 Testing Loss: 1.2650433778762817\n",
      "Epoch 52, CIFAR-10 Batch 3:  Testing Accuracy: 0.5750000476837158 Testing Loss: 1.0664888620376587\n",
      "Epoch 52, CIFAR-10 Batch 4:  Testing Accuracy: 0.5250000357627869 Testing Loss: 1.2334914207458496\n",
      "Epoch 52, CIFAR-10 Batch 5:  Testing Accuracy: 0.5 Testing Loss: 1.23054838180542\n",
      "Epoch 53, CIFAR-10 Batch 1:  Testing Accuracy: 0.6000000238418579 Testing Loss: 1.1839112043380737\n",
      "Epoch 53, CIFAR-10 Batch 2:  Testing Accuracy: 0.5 Testing Loss: 1.2343339920043945\n",
      "Epoch 53, CIFAR-10 Batch 3:  Testing Accuracy: 0.6000000238418579 Testing Loss: 1.09774911403656\n",
      "Epoch 53, CIFAR-10 Batch 4:  Testing Accuracy: 0.5249999761581421 Testing Loss: 1.2386724948883057\n",
      "Epoch 53, CIFAR-10 Batch 5:  Testing Accuracy: 0.5 Testing Loss: 1.1911718845367432\n",
      "Epoch 54, CIFAR-10 Batch 1:  Testing Accuracy: 0.574999988079071 Testing Loss: 1.1947778463363647\n",
      "Epoch 54, CIFAR-10 Batch 2:  Testing Accuracy: 0.5 Testing Loss: 1.25306236743927\n",
      "Epoch 54, CIFAR-10 Batch 3:  Testing Accuracy: 0.574999988079071 Testing Loss: 1.1080052852630615\n",
      "Epoch 54, CIFAR-10 Batch 4:  Testing Accuracy: 0.550000011920929 Testing Loss: 1.2487152814865112\n",
      "Epoch 54, CIFAR-10 Batch 5:  Testing Accuracy: 0.550000011920929 Testing Loss: 1.1829348802566528\n",
      "Epoch 55, CIFAR-10 Batch 1:  Testing Accuracy: 0.5750000476837158 Testing Loss: 1.1913949251174927\n",
      "Epoch 55, CIFAR-10 Batch 2:  Testing Accuracy: 0.5249999761581421 Testing Loss: 1.2934728860855103\n",
      "Epoch 55, CIFAR-10 Batch 3:  Testing Accuracy: 0.6000000238418579 Testing Loss: 1.0689553022384644\n",
      "Epoch 55, CIFAR-10 Batch 4:  Testing Accuracy: 0.550000011920929 Testing Loss: 1.224079966545105\n",
      "Epoch 55, CIFAR-10 Batch 5:  Testing Accuracy: 0.574999988079071 Testing Loss: 1.1917285919189453\n",
      "Epoch 56, CIFAR-10 Batch 1:  Testing Accuracy: 0.625 Testing Loss: 1.1758357286453247\n",
      "Epoch 56, CIFAR-10 Batch 2:  Testing Accuracy: 0.5249999761581421 Testing Loss: 1.2602349519729614\n",
      "Epoch 56, CIFAR-10 Batch 3:  Testing Accuracy: 0.6499999761581421 Testing Loss: 1.0476841926574707\n",
      "Epoch 56, CIFAR-10 Batch 4:  Testing Accuracy: 0.550000011920929 Testing Loss: 1.2611267566680908\n",
      "Epoch 56, CIFAR-10 Batch 5:  Testing Accuracy: 0.5249999761581421 Testing Loss: 1.1914018392562866\n",
      "Epoch 57, CIFAR-10 Batch 1:  Testing Accuracy: 0.5750000476837158 Testing Loss: 1.1660747528076172\n",
      "Epoch 57, CIFAR-10 Batch 2:  Testing Accuracy: 0.4749999940395355 Testing Loss: 1.2319697141647339\n",
      "Epoch 57, CIFAR-10 Batch 3:  Testing Accuracy: 0.6749999523162842 Testing Loss: 1.0560104846954346\n",
      "Epoch 57, CIFAR-10 Batch 4:  Testing Accuracy: 0.5750000476837158 Testing Loss: 1.2183622121810913\n",
      "Epoch 57, CIFAR-10 Batch 5:  Testing Accuracy: 0.5999999642372131 Testing Loss: 1.1752744913101196\n",
      "Epoch 58, CIFAR-10 Batch 1:  Testing Accuracy: 0.6499999761581421 Testing Loss: 1.1914201974868774\n",
      "Epoch 58, CIFAR-10 Batch 2:  Testing Accuracy: 0.4750000238418579 Testing Loss: 1.2318366765975952\n",
      "Epoch 58, CIFAR-10 Batch 3:  Testing Accuracy: 0.7000000476837158 Testing Loss: 1.0725183486938477\n",
      "Epoch 58, CIFAR-10 Batch 4:  Testing Accuracy: 0.625 Testing Loss: 1.2549339532852173\n",
      "Epoch 58, CIFAR-10 Batch 5:  Testing Accuracy: 0.47499996423721313 Testing Loss: 1.1950559616088867\n",
      "Epoch 59, CIFAR-10 Batch 1:  Testing Accuracy: 0.625 Testing Loss: 1.1535731554031372\n",
      "Epoch 59, CIFAR-10 Batch 2:  Testing Accuracy: 0.5249999761581421 Testing Loss: 1.2752827405929565\n",
      "Epoch 59, CIFAR-10 Batch 3:  Testing Accuracy: 0.6499999761581421 Testing Loss: 1.074383020401001\n",
      "Epoch 59, CIFAR-10 Batch 4:  Testing Accuracy: 0.550000011920929 Testing Loss: 1.2080295085906982\n",
      "Epoch 59, CIFAR-10 Batch 5:  Testing Accuracy: 0.4749999940395355 Testing Loss: 1.177724838256836\n",
      "Epoch 60, CIFAR-10 Batch 1:  Testing Accuracy: 0.6749999523162842 Testing Loss: 1.1151350736618042\n",
      "Epoch 60, CIFAR-10 Batch 2:  Testing Accuracy: 0.550000011920929 Testing Loss: 1.2657498121261597\n",
      "Epoch 60, CIFAR-10 Batch 3:  Testing Accuracy: 0.6000000238418579 Testing Loss: 1.083862066268921\n",
      "Epoch 60, CIFAR-10 Batch 4:  Testing Accuracy: 0.4750000238418579 Testing Loss: 1.2135640382766724\n",
      "Epoch 60, CIFAR-10 Batch 5:  Testing Accuracy: 0.574999988079071 Testing Loss: 1.1525565385818481\n",
      "Epoch 61, CIFAR-10 Batch 1:  Testing Accuracy: 0.6000000238418579 Testing Loss: 1.122615098953247\n",
      "Epoch 61, CIFAR-10 Batch 2:  Testing Accuracy: 0.5750000476837158 Testing Loss: 1.2067292928695679\n",
      "Epoch 61, CIFAR-10 Batch 3:  Testing Accuracy: 0.6749999523162842 Testing Loss: 1.0571422576904297\n",
      "Epoch 61, CIFAR-10 Batch 4:  Testing Accuracy: 0.5750000476837158 Testing Loss: 1.212201476097107\n",
      "Epoch 61, CIFAR-10 Batch 5:  Testing Accuracy: 0.5750000476837158 Testing Loss: 1.1533540487289429\n",
      "Epoch 62, CIFAR-10 Batch 1:  Testing Accuracy: 0.6000000238418579 Testing Loss: 1.141093373298645\n",
      "Epoch 62, CIFAR-10 Batch 2:  Testing Accuracy: 0.5250000357627869 Testing Loss: 1.1665513515472412\n",
      "Epoch 62, CIFAR-10 Batch 3:  Testing Accuracy: 0.6499999761581421 Testing Loss: 1.0681270360946655\n",
      "Epoch 62, CIFAR-10 Batch 4:  Testing Accuracy: 0.4750000238418579 Testing Loss: 1.2100353240966797\n",
      "Epoch 62, CIFAR-10 Batch 5:  Testing Accuracy: 0.6000000238418579 Testing Loss: 1.1622202396392822\n",
      "Epoch 63, CIFAR-10 Batch 1:  Testing Accuracy: 0.5750000476837158 Testing Loss: 1.1559805870056152\n",
      "Epoch 63, CIFAR-10 Batch 2:  Testing Accuracy: 0.5 Testing Loss: 1.24472975730896\n",
      "Epoch 63, CIFAR-10 Batch 3:  Testing Accuracy: 0.6749999523162842 Testing Loss: 1.0610480308532715\n",
      "Epoch 63, CIFAR-10 Batch 4:  Testing Accuracy: 0.625 Testing Loss: 1.2094035148620605\n",
      "Epoch 63, CIFAR-10 Batch 5:  Testing Accuracy: 0.6000000238418579 Testing Loss: 1.137046217918396\n",
      "Epoch 64, CIFAR-10 Batch 1:  Testing Accuracy: 0.625 Testing Loss: 1.1359254121780396\n",
      "Epoch 64, CIFAR-10 Batch 2:  Testing Accuracy: 0.5249999761581421 Testing Loss: 1.1944694519042969\n",
      "Epoch 64, CIFAR-10 Batch 3:  Testing Accuracy: 0.6499999761581421 Testing Loss: 1.0742732286453247\n",
      "Epoch 64, CIFAR-10 Batch 4:  Testing Accuracy: 0.5750000476837158 Testing Loss: 1.2263565063476562\n",
      "Epoch 64, CIFAR-10 Batch 5:  Testing Accuracy: 0.5999999642372131 Testing Loss: 1.152297854423523\n",
      "Epoch 65, CIFAR-10 Batch 1:  Testing Accuracy: 0.625 Testing Loss: 1.1187822818756104\n",
      "Epoch 65, CIFAR-10 Batch 2:  Testing Accuracy: 0.5249999761581421 Testing Loss: 1.199923038482666\n",
      "Epoch 65, CIFAR-10 Batch 3:  Testing Accuracy: 0.6499999761581421 Testing Loss: 1.0816251039505005\n",
      "Epoch 65, CIFAR-10 Batch 4:  Testing Accuracy: 0.625 Testing Loss: 1.222100019454956\n",
      "Epoch 65, CIFAR-10 Batch 5:  Testing Accuracy: 0.550000011920929 Testing Loss: 1.154971718788147\n",
      "Epoch 66, CIFAR-10 Batch 1:  Testing Accuracy: 0.5250000357627869 Testing Loss: 1.1339387893676758\n",
      "Epoch 66, CIFAR-10 Batch 2:  Testing Accuracy: 0.5 Testing Loss: 1.1600069999694824\n",
      "Epoch 66, CIFAR-10 Batch 3:  Testing Accuracy: 0.6499999761581421 Testing Loss: 1.0529747009277344\n",
      "Epoch 66, CIFAR-10 Batch 4:  Testing Accuracy: 0.625 Testing Loss: 1.1804255247116089\n",
      "Epoch 66, CIFAR-10 Batch 5:  Testing Accuracy: 0.5250000357627869 Testing Loss: 1.140484094619751\n",
      "Epoch 67, CIFAR-10 Batch 1:  Testing Accuracy: 0.6000000238418579 Testing Loss: 1.0997474193572998\n",
      "Epoch 67, CIFAR-10 Batch 2:  Testing Accuracy: 0.4749999940395355 Testing Loss: 1.1901668310165405\n",
      "Epoch 67, CIFAR-10 Batch 3:  Testing Accuracy: 0.5750000476837158 Testing Loss: 1.0785605907440186\n",
      "Epoch 67, CIFAR-10 Batch 4:  Testing Accuracy: 0.574999988079071 Testing Loss: 1.235168218612671\n",
      "Epoch 67, CIFAR-10 Batch 5:  Testing Accuracy: 0.574999988079071 Testing Loss: 1.133105754852295\n",
      "Epoch 68, CIFAR-10 Batch 1:  Testing Accuracy: 0.6749999523162842 Testing Loss: 1.123140573501587\n",
      "Epoch 68, CIFAR-10 Batch 2:  Testing Accuracy: 0.4749999940395355 Testing Loss: 1.156904935836792\n",
      "Epoch 68, CIFAR-10 Batch 3:  Testing Accuracy: 0.625 Testing Loss: 1.0870956182479858\n",
      "Epoch 68, CIFAR-10 Batch 4:  Testing Accuracy: 0.5250000357627869 Testing Loss: 1.2098884582519531\n",
      "Epoch 68, CIFAR-10 Batch 5:  Testing Accuracy: 0.625 Testing Loss: 1.1379560232162476\n",
      "Epoch 69, CIFAR-10 Batch 1:  Testing Accuracy: 0.6499999761581421 Testing Loss: 1.0795159339904785\n",
      "Epoch 69, CIFAR-10 Batch 2:  Testing Accuracy: 0.5 Testing Loss: 1.1794012784957886\n",
      "Epoch 69, CIFAR-10 Batch 3:  Testing Accuracy: 0.6499999761581421 Testing Loss: 1.0645772218704224\n",
      "Epoch 69, CIFAR-10 Batch 4:  Testing Accuracy: 0.574999988079071 Testing Loss: 1.2061095237731934\n",
      "Epoch 69, CIFAR-10 Batch 5:  Testing Accuracy: 0.4750000238418579 Testing Loss: 1.1870522499084473\n",
      "Epoch 70, CIFAR-10 Batch 1:  Testing Accuracy: 0.550000011920929 Testing Loss: 1.131528615951538\n",
      "Epoch 70, CIFAR-10 Batch 2:  Testing Accuracy: 0.5 Testing Loss: 1.1793200969696045\n",
      "Epoch 70, CIFAR-10 Batch 3:  Testing Accuracy: 0.6499999761581421 Testing Loss: 1.0693681240081787\n",
      "Epoch 70, CIFAR-10 Batch 4:  Testing Accuracy: 0.574999988079071 Testing Loss: 1.2103171348571777\n",
      "Epoch 70, CIFAR-10 Batch 5:  Testing Accuracy: 0.625 Testing Loss: 1.1381433010101318\n",
      "Epoch 71, CIFAR-10 Batch 1:  Testing Accuracy: 0.625 Testing Loss: 1.0799974203109741\n",
      "Epoch 71, CIFAR-10 Batch 2:  Testing Accuracy: 0.44999998807907104 Testing Loss: 1.2164827585220337\n",
      "Epoch 71, CIFAR-10 Batch 3:  Testing Accuracy: 0.6749999523162842 Testing Loss: 1.0386664867401123\n",
      "Epoch 71, CIFAR-10 Batch 4:  Testing Accuracy: 0.5750000476837158 Testing Loss: 1.1811293363571167\n",
      "Epoch 71, CIFAR-10 Batch 5:  Testing Accuracy: 0.625 Testing Loss: 1.113572359085083\n",
      "Epoch 72, CIFAR-10 Batch 1:  Testing Accuracy: 0.6499999761581421 Testing Loss: 1.0724997520446777\n",
      "Epoch 72, CIFAR-10 Batch 2:  Testing Accuracy: 0.5750000476837158 Testing Loss: 1.1475653648376465\n",
      "Epoch 72, CIFAR-10 Batch 3:  Testing Accuracy: 0.7000000476837158 Testing Loss: 1.0206809043884277\n",
      "Epoch 72, CIFAR-10 Batch 4:  Testing Accuracy: 0.5750000476837158 Testing Loss: 1.1745834350585938\n",
      "Epoch 72, CIFAR-10 Batch 5:  Testing Accuracy: 0.550000011920929 Testing Loss: 1.1547681093215942\n",
      "Epoch 73, CIFAR-10 Batch 1:  Testing Accuracy: 0.5750000476837158 Testing Loss: 1.1351239681243896\n",
      "Epoch 73, CIFAR-10 Batch 2:  Testing Accuracy: 0.5249999761581421 Testing Loss: 1.149702548980713\n",
      "Epoch 73, CIFAR-10 Batch 3:  Testing Accuracy: 0.6749999523162842 Testing Loss: 1.037845492362976\n",
      "Epoch 73, CIFAR-10 Batch 4:  Testing Accuracy: 0.6000000238418579 Testing Loss: 1.185019850730896\n",
      "Epoch 73, CIFAR-10 Batch 5:  Testing Accuracy: 0.625 Testing Loss: 1.1336314678192139\n",
      "Epoch 74, CIFAR-10 Batch 1:  Testing Accuracy: 0.6000000238418579 Testing Loss: 1.0718449354171753\n",
      "Epoch 74, CIFAR-10 Batch 2:  Testing Accuracy: 0.5 Testing Loss: 1.146650791168213\n",
      "Epoch 74, CIFAR-10 Batch 3:  Testing Accuracy: 0.6499999761581421 Testing Loss: 1.0362212657928467\n",
      "Epoch 74, CIFAR-10 Batch 4:  Testing Accuracy: 0.5750000476837158 Testing Loss: 1.2066148519515991\n",
      "Epoch 74, CIFAR-10 Batch 5:  Testing Accuracy: 0.5999999642372131 Testing Loss: 1.1280601024627686\n",
      "Epoch 75, CIFAR-10 Batch 1:  Testing Accuracy: 0.625 Testing Loss: 1.087254524230957\n",
      "Epoch 75, CIFAR-10 Batch 2:  Testing Accuracy: 0.5249999761581421 Testing Loss: 1.131962537765503\n",
      "Epoch 75, CIFAR-10 Batch 3:  Testing Accuracy: 0.6749999523162842 Testing Loss: 1.0312447547912598\n",
      "Epoch 75, CIFAR-10 Batch 4:  Testing Accuracy: 0.5750000476837158 Testing Loss: 1.2021722793579102\n",
      "Epoch 75, CIFAR-10 Batch 5:  Testing Accuracy: 0.6500000357627869 Testing Loss: 1.123367428779602\n",
      "Epoch 76, CIFAR-10 Batch 1:  Testing Accuracy: 0.6000000238418579 Testing Loss: 1.1152212619781494\n",
      "Epoch 76, CIFAR-10 Batch 2:  Testing Accuracy: 0.5249999761581421 Testing Loss: 1.1413547992706299\n",
      "Epoch 76, CIFAR-10 Batch 3:  Testing Accuracy: 0.6499999761581421 Testing Loss: 1.0404236316680908\n",
      "Epoch 76, CIFAR-10 Batch 4:  Testing Accuracy: 0.6500000357627869 Testing Loss: 1.1973459720611572\n",
      "Epoch 76, CIFAR-10 Batch 5:  Testing Accuracy: 0.574999988079071 Testing Loss: 1.1339963674545288\n",
      "Epoch 77, CIFAR-10 Batch 1:  Testing Accuracy: 0.625 Testing Loss: 1.1171793937683105\n",
      "Epoch 77, CIFAR-10 Batch 2:  Testing Accuracy: 0.4750000238418579 Testing Loss: 1.1564207077026367\n",
      "Epoch 77, CIFAR-10 Batch 3:  Testing Accuracy: 0.6749999523162842 Testing Loss: 1.039942979812622\n",
      "Epoch 77, CIFAR-10 Batch 4:  Testing Accuracy: 0.6000000238418579 Testing Loss: 1.2191274166107178\n",
      "Epoch 77, CIFAR-10 Batch 5:  Testing Accuracy: 0.5250000357627869 Testing Loss: 1.1487410068511963\n",
      "Epoch 78, CIFAR-10 Batch 1:  Testing Accuracy: 0.625 Testing Loss: 1.1168646812438965\n",
      "Epoch 78, CIFAR-10 Batch 2:  Testing Accuracy: 0.4750000238418579 Testing Loss: 1.1550025939941406\n",
      "Epoch 78, CIFAR-10 Batch 3:  Testing Accuracy: 0.7000000476837158 Testing Loss: 1.021069884300232\n",
      "Epoch 78, CIFAR-10 Batch 4:  Testing Accuracy: 0.625 Testing Loss: 1.2444710731506348\n",
      "Epoch 78, CIFAR-10 Batch 5:  Testing Accuracy: 0.574999988079071 Testing Loss: 1.1353296041488647\n",
      "Epoch 79, CIFAR-10 Batch 1:  Testing Accuracy: 0.625 Testing Loss: 1.1047724485397339\n",
      "Epoch 79, CIFAR-10 Batch 2:  Testing Accuracy: 0.5 Testing Loss: 1.1372790336608887\n",
      "Epoch 79, CIFAR-10 Batch 3:  Testing Accuracy: 0.6499999761581421 Testing Loss: 1.0190895795822144\n",
      "Epoch 79, CIFAR-10 Batch 4:  Testing Accuracy: 0.6000000238418579 Testing Loss: 1.2125215530395508\n",
      "Epoch 79, CIFAR-10 Batch 5:  Testing Accuracy: 0.5249999761581421 Testing Loss: 1.1382735967636108\n",
      "Epoch 80, CIFAR-10 Batch 1:  Testing Accuracy: 0.6499999761581421 Testing Loss: 1.0992910861968994\n",
      "Epoch 80, CIFAR-10 Batch 2:  Testing Accuracy: 0.5 Testing Loss: 1.132634162902832\n",
      "Epoch 80, CIFAR-10 Batch 3:  Testing Accuracy: 0.7000000476837158 Testing Loss: 1.022238850593567\n",
      "Epoch 80, CIFAR-10 Batch 4:  Testing Accuracy: 0.5750000476837158 Testing Loss: 1.2162915468215942\n",
      "Epoch 80, CIFAR-10 Batch 5:  Testing Accuracy: 0.625 Testing Loss: 1.1062947511672974\n"
     ]
    }
   ],
   "source": [
    "\"\"\"\n",
    "DON'T MODIFY ANYTHING IN THIS CELL\n",
    "\"\"\"\n",
    "save_model_path = './image_classification'\n",
    "\n",
    "print('Training...')\n",
    "with tf.Session() as sess:\n",
    "    # Initializing the variables\n",
    "    sess.run(tf.global_variables_initializer())\n",
    "    \n",
    "    # Training cycle\n",
    "    for epoch in range(epochs):\n",
    "        # Loop over all batches\n",
    "        n_batches = 5\n",
    "        for batch_i in range(1, n_batches + 1):\n",
    "            for batch_features, batch_labels in helper.load_preprocess_training_batch(batch_i, batch_size):\n",
    "                train_neural_network(sess, optimizer, keep_probability, batch_features, batch_labels)\n",
    "            print('Epoch {:>2}, CIFAR-10 Batch {}:  '.format(epoch + 1, batch_i), end='')\n",
    "            print_stats(sess, batch_features, batch_labels, cost, accuracy)\n",
    "            \n",
    "    # Save Model\n",
    "    saver = tf.train.Saver()\n",
    "    save_path = saver.save(sess, save_model_path)"
   ]
  },
  {
   "cell_type": "markdown",
   "metadata": {
    "deletable": true,
    "editable": true
   },
   "source": [
    "# Checkpoint\n",
    "The model has been saved to disk.\n",
    "## Test Model\n",
    "Test your model against the test dataset.  This will be your final accuracy. You should have an accuracy greater than 50%. If you don't, keep tweaking the model architecture and parameters."
   ]
  },
  {
   "cell_type": "code",
   "execution_count": 46,
   "metadata": {
    "collapsed": false,
    "deletable": true,
    "editable": true
   },
   "outputs": [
    {
     "name": "stdout",
     "output_type": "stream",
     "text": [
      "Testing Accuracy: 0.5572587025316456\n",
      "\n"
     ]
    },
    {
     "data": {
      "image/png": "[encoded data removed]",
      "text/plain": [
       "<matplotlib.figure.Figure at 0x7f8d9078def0>"
      ]
     },
     "metadata": {
      "image/png": {
       "height": 319,
       "width": 355
      }
     },
     "output_type": "display_data"
    }
   ],
   "source": [
    "\"\"\"\n",
    "DON'T MODIFY ANYTHING IN THIS CELL\n",
    "\"\"\"\n",
    "%matplotlib inline\n",
    "%config InlineBackend.figure_format = 'retina'\n",
    "\n",
    "import tensorflow as tf\n",
    "import pickle\n",
    "import helper\n",
    "import random\n",
    "\n",
    "# Set batch size if not already set\n",
    "try:\n",
    "    if batch_size:\n",
    "        pass\n",
    "except NameError:\n",
    "    batch_size = 64\n",
    "\n",
    "save_model_path = './image_classification'\n",
    "n_samples = 4\n",
    "top_n_predictions = 3\n",
    "\n",
    "def test_model():\n",
    "    \"\"\"\n",
    "    Test the saved model against the test dataset\n",
    "    \"\"\"\n",
    "\n",
    "    test_features, test_labels = pickle.load(open('preprocess_training.p', mode='rb'))\n",
    "    loaded_graph = tf.Graph()\n",
    "\n",
    "    with tf.Session(graph=loaded_graph) as sess:\n",
    "        # Load model\n",
    "        loader = tf.train.import_meta_graph(save_model_path + '.meta')\n",
    "        loader.restore(sess, save_model_path)\n",
    "\n",
    "        # Get Tensors from loaded model\n",
    "        loaded_x = loaded_graph.get_tensor_by_name('x:0')\n",
    "        loaded_y = loaded_graph.get_tensor_by_name('y:0')\n",
    "        loaded_keep_prob = loaded_graph.get_tensor_by_name('keep_prob:0')\n",
    "        loaded_logits = loaded_graph.get_tensor_by_name('logits:0')\n",
    "        loaded_acc = loaded_graph.get_tensor_by_name('accuracy:0')\n",
    "        \n",
    "        # Get accuracy in batches for memory limitations\n",
    "        test_batch_acc_total = 0\n",
    "        test_batch_count = 0\n",
    "        \n",
    "        for train_feature_batch, train_label_batch in helper.batch_features_labels(test_features, test_labels, batch_size):\n",
    "            test_batch_acc_total += sess.run(\n",
    "                loaded_acc,\n",
    "                feed_dict={loaded_x: train_feature_batch, loaded_y: train_label_batch, loaded_keep_prob: 1.0})\n",
    "            test_batch_count += 1\n",
    "\n",
    "        print('Testing Accuracy: {}\\n'.format(test_batch_acc_total/test_batch_count))\n",
    "\n",
    "        # Print Random Samples\n",
    "        random_test_features, random_test_labels = tuple(zip(*random.sample(list(zip(test_features, test_labels)), n_samples)))\n",
    "        random_test_predictions = sess.run(\n",
    "            tf.nn.top_k(tf.nn.softmax(loaded_logits), top_n_predictions),\n",
    "            feed_dict={loaded_x: random_test_features, loaded_y: random_test_labels, loaded_keep_prob: 1.0})\n",
    "        helper.display_image_predictions(random_test_features, random_test_labels, random_test_predictions)\n",
    "\n",
    "\n",
    "test_model()"
   ]
  },
  {
   "cell_type": "markdown",
   "metadata": {
    "deletable": true,
    "editable": true
   },
   "source": [
    "## Why 50-70% Accuracy?\n",
    "You might be wondering why you can't get an accuracy any higher. First things first, 50% isn't bad for a simple CNN.  Pure guessing would get you 10% accuracy. However, you might notice people are getting scores [well above 70%](http://rodrigob.github.io/are_we_there_yet/build/classification_datasets_results.html#43494641522d3130).  That's because we haven't taught you all there is to know about neural networks. We still need to cover a few more techniques.\n",
    "## Submitting This Project\n",
    "When submitting this project, make sure to run all the cells before saving the notebook.  Save the notebook file as \"dlnd_image_classification.ipynb\" and save it as a HTML file under \"File\" -> \"Download as\".  Include the \"helper.py\" and \"problem_unittests.py\" files in your submission."
   ]
  },
  {
   "cell_type": "code",
   "execution_count": null,
   "metadata": {
    "collapsed": true
   },
   "outputs": [],
   "source": []
  }
 ],
 "metadata": {
  "anaconda-cloud": {},
  "kernelspec": {
   "display_name": "Python 3",
   "language": "python",
   "name": "python3"
  },
  "language_info": {
   "codemirror_mode": {
    "name": "ipython",
    "version": 3
   },
   "file_extension": ".py",
   "mimetype": "text/x-python",
   "name": "python",
   "nbconvert_exporter": "python",
   "pygments_lexer": "ipython3",
   "version": "3.5.3"
  }
 },
 "nbformat": 4,
 "nbformat_minor": 0
}
